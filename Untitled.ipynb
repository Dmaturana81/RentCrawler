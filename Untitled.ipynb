{
 "cells": [
  {
   "cell_type": "code",
   "execution_count": null,
   "id": "a50dec51-19c4-46fd-a75b-651865997a96",
   "metadata": {},
   "outputs": [],
   "source": [
    "import json\n",
    "import pandas as pd\n",
    "from typing import Union"
   ]
  },
  {
   "cell_type": "code",
   "execution_count": null,
   "id": "f550a72e-f4d4-4c56-bb3b-cc8613f9e411",
   "metadata": {},
   "outputs": [],
   "source": [
    "types_dict = {\n",
    "    'FARM': 'farm',\n",
    "    'COMMERCIAL_ALLOTMENT_LAND': 'Land',\n",
    "    'APARTMENT': 'Apartment',\n",
    "    'COUNTRY_HOUSE': 'House',\n",
    "    'ALLOTMENT_LAND': 'Land',\n",
    "    'COMMERCIAL_PROPERTY': 'Commercial',\n",
    "    'CONDOMINIUM': 'Condominium',\n",
    "    'TWO_STORY_HOUSE': 'House',\n",
    "    'BUILDING': 'Building',\n",
    "    'OFFICE': 'Comercial',\n",
    "    'RESIDENTIAL_BUILDING': 'Building',\n",
    "    'HOME': 'House',\n",
    "    'SHED_DEPOSIT_WAREHOUSE': 'Warehouse',\n",
    "    'RESIDENTIAL_ALLOTMENT_LAND': 'Land',\n",
    "    'PENTHOUSE': 'Apartment',\n",
    "    'FLAT': 'Flat',\n",
    "    'BUSINESS': 'Commercial',\n",
    "    'COMMERCIAL_BUILDING': 'Commercial',\n",
    "    'Apartamento': 'Apartment',\n",
    "    'Cobertura': 'Apartment',\n",
    "    'Casa': 'House',\n",
    "    'CasaCondominio': 'Condominium',\n",
    "    'StudioOuKitchenette': 'Flat',\n",
    "    }\n",
    "\n",
    "def type2utype(type:Union[str, None]):\n",
    "    \"\"\"\n",
    "    Function to transform the utype of the property to the universal utype\n",
    "    \"\"\"\n",
    "    return types_dict[type] if type and type in types_dict.keys() else type"
   ]
  },
  {
   "cell_type": "code",
   "execution_count": null,
   "id": "11dcf9ac-66a4-4894-a8e1-3019e78b42f2",
   "metadata": {},
   "outputs": [],
   "source": [
    "file = 'vreal.json'"
   ]
  },
  {
   "cell_type": "code",
   "execution_count": null,
   "id": "e435e31f-da29-4db0-a28e-14d2bebd91a1",
   "metadata": {},
   "outputs": [],
   "source": [
    "with open(file,'r') as f:\n",
    "    fin = f.read()"
   ]
  },
  {
   "cell_type": "code",
   "execution_count": null,
   "id": "c3291cbf-6ff3-4e8e-805a-1ed94ee6b7ef",
   "metadata": {},
   "outputs": [],
   "source": [
    "data = json.loads(fin)"
   ]
  },
  {
   "cell_type": "code",
   "execution_count": null,
   "id": "d022b29c-b46a-4439-a29a-12a207f8ee34",
   "metadata": {},
   "outputs": [
    {
     "data": {
      "text/plain": [
       "8974"
      ]
     },
     "execution_count": null,
     "metadata": {},
     "output_type": "execute_result"
    }
   ],
   "source": [
    "len(data)"
   ]
  },
  {
   "cell_type": "code",
   "execution_count": null,
   "id": "62500317-f6da-4492-9ed1-7b38df5747c8",
   "metadata": {},
   "outputs": [],
   "source": [
    "for house in data:\n",
    "    house['details']['utype'] = type2utype(house['details']['utype'])    # types = [x['details']['type'] for x in data]"
   ]
  },
  {
   "cell_type": "code",
   "execution_count": null,
   "id": "fb0c1acf-320e-40fb-93aa-0a289699edbf",
   "metadata": {},
   "outputs": [],
   "source": [
    "with open(f\"{file}.json\", 'w') as fout:\n",
    "    fout.write(json.dumps(data))"
   ]
  },
  {
   "cell_type": "code",
   "execution_count": null,
   "id": "8155628a-059a-489c-b877-17d3d33ac7f3",
   "metadata": {},
   "outputs": [],
   "source": []
  },
  {
   "cell_type": "code",
   "execution_count": null,
   "id": "c400cb0c-e0d0-4878-90f3-48ef9ef0bea9",
   "metadata": {},
   "outputs": [],
   "source": [
    "vr_keys = list(set(types))"
   ]
  },
  {
   "cell_type": "code",
   "execution_count": null,
   "id": "ea66f5ce-8a2c-4ea6-820c-73c0fc5a9bb5",
   "metadata": {},
   "outputs": [
    {
     "data": {
      "text/plain": [
       "{'Apartamento': 'Apartamento', 'Cobertura': 'Cobertura', 'Casa': 'Casa'}"
      ]
     },
     "execution_count": null,
     "metadata": {},
     "output_type": "execute_result"
    }
   ],
   "source": [
    "{x:x for x in vr_keys}"
   ]
  },
  {
   "cell_type": "code",
   "execution_count": null,
   "id": "584ad675-5b37-4864-8aa2-2244fe67fcbb",
   "metadata": {},
   "outputs": [
    {
     "data": {
      "text/plain": [
       "{'CasaCondominio': 'CasaCondominio',\n",
       " 'Apartamento': 'Apartamento',\n",
       " 'StudioOuKitchenette': 'StudioOuKitchenette',\n",
       " 'Casa': 'Casa'}"
      ]
     },
     "execution_count": null,
     "metadata": {},
     "output_type": "execute_result"
    }
   ],
   "source": [
    "{x:x for x in vr_keys}"
   ]
  },
  {
   "cell_type": "code",
   "execution_count": null,
   "id": "c59d2f00-b30c-4378-83d9-763ac2e57fb9",
   "metadata": {},
   "outputs": [],
   "source": []
  }
 ],
 "metadata": {
  "kernelspec": {
   "display_name": "Python 3",
   "language": "python",
   "name": "python3"
  }
 },
 "nbformat": 4,
 "nbformat_minor": 5
}
