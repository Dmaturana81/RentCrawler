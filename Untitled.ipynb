{
 "cells": [
  {
   "cell_type": "code",
   "execution_count": null,
   "id": "a50dec51-19c4-46fd-a75b-651865997a96",
   "metadata": {},
   "outputs": [],
   "source": [
    "import json\n",
    "import pandas as pd\n",
    "from typing import Union\n",
    "from pathlib import Path"
   ]
  },
  {
   "cell_type": "code",
   "execution_count": null,
   "id": "c59d2f00-b30c-4378-83d9-763ac2e57fb9",
   "metadata": {},
   "outputs": [],
   "source": [
    "import scrapy\n",
    "import requests"
   ]
  },
  {
   "cell_type": "markdown",
   "id": "5dbb4750-f8dd-4834-a267-8431530d71e0",
   "metadata": {},
   "source": [
    "# Fixing the utype of properties following the dictionary"
   ]
  },
  {
   "cell_type": "code",
   "execution_count": null,
   "id": "f550a72e-f4d4-4c56-bb3b-cc8613f9e411",
   "metadata": {},
   "outputs": [],
   "source": [
    "types_dict = {\n",
    "    'FARM': 'farm',\n",
    "    'SMALL_FARM':'Farm',\n",
    "    'COMMERCIAL_ALLOTMENT_LAND': 'Land',\n",
    "    'APARTMENT': 'Apartment',\n",
    "    'STUDIO_APARTMENT':'Apartment',\n",
    "    'COUNTRY_HOUSE': 'House',\n",
    "    'ALLOTMENT_LAND': 'Land',\n",
    "    'LAND': 'Land',\n",
    "    'AREA':'Land',\n",
    "    'POINT':'Commercial',\n",
    "    'COMMERCIAL_PROPERTY': 'Commercial',\n",
    "    'CONDOMINIUM': 'Condominium',\n",
    "    'TWO_STORY_HOUSE': 'House',\n",
    "    'BUILDING': 'Building',\n",
    "    'OFFICE': 'Comercial',\n",
    "    'RESIDENTIAL_BUILDING': 'Building',\n",
    "    'HOME': 'House',\n",
    "    'HOUSE': 'House',\n",
    "    'SHED_DEPOSIT_WAREHOUSE': 'Warehouse',\n",
    "    'RESIDENTIAL_ALLOTMENT_LAND': 'Land',\n",
    "    'PENTHOUSE': 'Apartment',\n",
    "    'PENTHOUSE_APARTMENT':'Apartment',\n",
    "    'FLAT': 'Flat',\n",
    "    'BUSINESS': 'Commercial',\n",
    "    'COMMERCIAL_BUILDING': 'Commercial',\n",
    "    'Apartamento': 'Apartment',\n",
    "    'Cobertura': 'Apartment',\n",
    "    'Casa': 'House',\n",
    "    'CasaCondominio': 'Condominium',\n",
    "    'StudioOuKitchenette': 'Flat',\n",
    "    'OUTHOUSE':'House',\n",
    "    'SMALLHOLDING':'Building',\n",
    "    'ROOM':'Quarto',\n",
    "    }\n",
    "\n",
    "def type2utype(type:Union[str, list, None]):\n",
    "    \"\"\"\n",
    "    Function to transform the utype of the property to the universal utype\n",
    "    \"\"\"\n",
    "    if isinstance(type, list):\n",
    "        type = type[0] if len(type) > 0 else ''\n",
    "    return types_dict[type] if type and type in types_dict.keys() else type\n"
   ]
  },
  {
   "cell_type": "code",
   "execution_count": null,
   "id": "b779d81c-f5a3-4c7f-a0f1-470e01ada4b7",
   "metadata": {},
   "outputs": [],
   "source": [
    "path = Path('./').glob('*.json')"
   ]
  },
  {
   "cell_type": "code",
   "execution_count": null,
   "id": "e77b007e-8224-4e55-b8a9-1f89062f9c58",
   "metadata": {},
   "outputs": [],
   "source": [
    "for file in path:\n",
    "    with open(file,'r') as f:\n",
    "        fin = f.read()\n",
    "    data = json.loads(fin)\n",
    "    # print(data)\n",
    "    for house in data:\n",
    "        house['details']['utype'] = type2utype(house['details']['utype'])\n",
    "    with open(f\"{file}.json\", 'w') as fout:\n",
    "        fout.write(json.dumps(data))"
   ]
  },
  {
   "cell_type": "markdown",
   "id": "b5ed3454-83a2-41a0-b5bd-329b23bdd041",
   "metadata": {},
   "source": [
    "# Adding The kind of the announcement, if it is Sale or Rent"
   ]
  },
  {
   "cell_type": "code",
   "execution_count": null,
   "id": "62500317-f6da-4492-9ed1-7b38df5747c8",
   "metadata": {},
   "outputs": [],
   "source": [
    "for house in data:\n",
    "    house['kind'] = 'Sale'   # types = [x['details']['type'] for x in data]"
   ]
  },
  {
   "cell_type": "code",
   "execution_count": null,
   "id": "b639a457-c36b-4db2-b63a-bdfe3892036c",
   "metadata": {},
   "outputs": [
    {
     "data": {
      "text/plain": [
       "{'code': 'VR_2619628207',\n",
       " 'address': {'rua': 'Rua Friuli, 20',\n",
       "  'bairro': 'Jardim das Paineiras I',\n",
       "  'cidade': 'São José dos Campos',\n",
       "  'estado': 'SP',\n",
       "  'location': {'lon': -45.786464, 'lat': -23.208237},\n",
       "  'cep': '12226087'},\n",
       " 'prices': {'price': 187800,\n",
       "  'updated': 1679418141.783707,\n",
       "  'iptu': 1100,\n",
       "  'condo': 480},\n",
       " 'details': {'size': 62,\n",
       "  'rooms': 2,\n",
       "  'garages': 1,\n",
       "  'suites': 0,\n",
       "  'bathrooms': 1,\n",
       "  'utype': 'Apartment'},\n",
       " 'text_details': {'description': 'Corretor Raphael - CRECI-SP 262604-FAgende uma visita ao decorado: (1 1) 9 8 3 4 7 - 7 2 8 6Breve lançamento da Construtora Souza Araújo - SOU VIVER FLORENÇA.Apartamentos de 47² ou 48m², com 2 dormitórios e condomínio completo, a partir de R$ 187.800,00.Unidades \"Garden\" disponíveis com 62m² - CONSULTE!Consulte disponibilidade e valores que podem variar de acordo com o andar e com a posição nas torres!Excelente prospecto de valorização, ideal para os perfis morador e investidor.',\n",
       "  'title': 'Apartamentos a partir de R$ 187.800,00 com 47m² 48m² e Gardens de 62m² 2 Dorm Jardim das Paineiras'},\n",
       " 'url': 'https://vivareal.com.br/imovel/apartamento-2-quartos-jardim-das-paineiras-i-bairros-sao-jose-dos-campos-com-garagem-48m2-venda-RS187800-id-2619628207/',\n",
       " 'item_id': 'bfa2ec9f1a95ebc6ba79d347a9bfe11eda1d0b6e',\n",
       " 'kind': 'Sale'}"
      ]
     },
     "execution_count": null,
     "metadata": {},
     "output_type": "execute_result"
    }
   ],
   "source": [
    "data[0]"
   ]
  },
  {
   "cell_type": "code",
   "execution_count": null,
   "id": "fb0c1acf-320e-40fb-93aa-0a289699edbf",
   "metadata": {},
   "outputs": [],
   "source": [
    "with open(f\"{file}.json\", 'w') as fout:\n",
    "    fout.write(json.dumps(data))"
   ]
  },
  {
   "cell_type": "markdown",
   "id": "7205296c-4127-4920-9310-9779978fd1db",
   "metadata": {},
   "source": [
    "# Exploring the APIs for different immobiliarias"
   ]
  },
  {
   "cell_type": "markdown",
   "id": "3219994c-a232-43dd-9560-967860b2fcac",
   "metadata": {},
   "source": [
    "## RedeSJC"
   ]
  },
  {
   "cell_type": "code",
   "execution_count": null,
   "id": "bf5cb3bd-2255-41c4-ab30-999e62b87112",
   "metadata": {},
   "outputs": [],
   "source": [
    "response = scrapy.Request.from_curl(\"\"\"curl 'https://www.redesaojose.com.br/api/listings/a-venda/sao-jose-dos-campos?pagina=2' -H 'User-Agent: Mozilla/5.0 (Macintosh; Intel Mac OS X 10.15; rv:109.0) Gecko/20100101 Firefox/111.0' -H 'Accept: */*' -H 'Accept-Language: en-US,es-CL;q=0.7,pt;q=0.3' -H 'Accept-Encoding: gzip, deflate, br' -H 'X-Requested-With: XMLHttpRequest' -H 'DNT: 1' -H 'Connection: keep-alive' -H 'Referer: https://www.redesaojose.com.br/imoveis/a-venda/sao-jose-dos-campos' -H 'Cookie: referer=www.google.com; uniqID=da20f75ae79a337983fc6a918aa1; accepted_cookie_policy=true; listingviewmode=LIST' -H 'Sec-Fetch-Dest: empty' -H 'Sec-Fetch-Mode: cors' -H 'Sec-Fetch-Site: same-origin' -H 'Pragma: no-cache' -H 'Cache-Control: no-cache' \"\"\")"
   ]
  },
  {
   "cell_type": "code",
   "execution_count": null,
   "id": "783b919d-fc37-466f-935b-8fe89785b1c3",
   "metadata": {},
   "outputs": [
    {
     "data": {
      "text/plain": [
       "'https://www.redesaojose.com.br/api/listings/a-venda/sao-jose-dos-campos?pagina=2'"
      ]
     },
     "execution_count": null,
     "metadata": {},
     "output_type": "execute_result"
    }
   ],
   "source": [
    "response.url"
   ]
  },
  {
   "cell_type": "code",
   "execution_count": null,
   "id": "b0675731-14f2-49d3-83c0-ff99fd2afaac",
   "metadata": {},
   "outputs": [
    {
     "data": {
      "text/plain": [
       "{'user-agent': 'Mozilla/5.0 (Macintosh; Intel Mac OS X 10.15; rv:109.0) Gecko/20100101 Firefox/111.0',\n",
       " 'accept': '*/*',\n",
       " 'accept-language': 'en-US,es-CL;q=0.7,pt;q=0.3',\n",
       " 'accept-encoding': 'gzip, deflate, br',\n",
       " 'x-requested-with': 'XMLHttpRequest',\n",
       " 'dnt': '1',\n",
       " 'connection': 'keep-alive',\n",
       " 'referer': 'https://www.redesaojose.com.br/imoveis/a-venda/sao-jose-dos-campos',\n",
       " 'sec-fetch-dest': 'empty',\n",
       " 'sec-fetch-mode': 'cors',\n",
       " 'sec-fetch-site': 'same-origin',\n",
       " 'pragma': 'no-cache',\n",
       " 'cache-control': 'no-cache'}"
      ]
     },
     "execution_count": null,
     "metadata": {},
     "output_type": "execute_result"
    }
   ],
   "source": [
    "response.headers.to_unicode_dict()"
   ]
  },
  {
   "cell_type": "code",
   "execution_count": null,
   "id": "6b8b5a85-77b3-4866-8d37-6c2ae04e9c09",
   "metadata": {},
   "outputs": [],
   "source": [
    "client = requests.Session()\n",
    "res = client.get('https://www.redesaojose.com.br')\n",
    "headers = response.headers.to_unicode_dict()\n",
    "# headers['accept'] = 'application/json'"
   ]
  },
  {
   "cell_type": "code",
   "execution_count": null,
   "id": "4000b3a7-520d-4ae4-8a55-7fe246756dd0",
   "metadata": {},
   "outputs": [],
   "source": [
    "res = client.get('https://www.redesaojose.com.br/api/listings/a-venda/sao-jose-dos-campos',headers=headers)"
   ]
  },
  {
   "cell_type": "code",
   "execution_count": null,
   "id": "1788122e-e4b9-4d21-8335-dc9ca72bb60f",
   "metadata": {},
   "outputs": [
    {
     "data": {
      "text/plain": [
       "{'amenities': ['ACCEPT_FINANCING',\n",
       "  'BARBECUE_GRILL',\n",
       "  'GATED_COMMUNITY',\n",
       "  'FEATURED',\n",
       "  'PICTURES',\n",
       "  'INTERPHONE',\n",
       "  'SWIMMING_POOL',\n",
       "  'CABLE_TV',\n",
       "  'SITE',\n",
       "  'FULL_URL',\n",
       "  'ELECTRIC_GATE',\n",
       "  'ELEVATOR',\n",
       "  'KITCHEN',\n",
       "  'LAUNDRY_ROOM_BR',\n",
       "  'SPORTS_COURT',\n",
       "  'VERANDA',\n",
       "  'SUBFLOOR',\n",
       "  'FLOOR_CERAMIC_TILES',\n",
       "  'PET_FRIENDLY'],\n",
       " 'area': [70, 70],\n",
       " 'bathrooms': [2, 2],\n",
       " 'bedrooms': [3, 3],\n",
       " 'brokers': [],\n",
       " 'city': 'São José dos Campos',\n",
       " 'condo_fees': 350,\n",
       " 'contacts': [],\n",
       " 'from': 'IMOB',\n",
       " 'garages': [1, 1],\n",
       " 'index': 'listings',\n",
       " 'listing_description': 'Apartamento Novo para Venda na Vila Industrial, próximo ao Hospital Municipal, Atacadão e Havan.\\r\\n\\r\\nApartamento no contra piso com 3 dormitórios sendo 1 suíte, um ponto para Instalação de ar condicionado dormitório da suíte.\\r\\nSala com 2 ambientes integrada com a cozinha e varanda.\\r\\nCozinha integrada com a varanda, com 2 pontos de ligação de gás, 1 ponto podendo instalar fogão cooktop.\\r\\n1 ponto para ligação de gás tbem na varanda.\\r\\n1 vaga coberta.\\r\\nÁgua e gás separados (cobrança individual).\\r\\nÁrea destinada aos visitantes de fácil acesso da portaria e asfaltada do lazer privativo dos moradores, além de ter 27 vagas para visitantes.\\r\\nLazer completo e portaria 24 horas.\\r\\nAceita Financiamento Bancário e FGTS, 20% de entrada e 80% financiado.\\r\\n\\r\\nLazer com Salão de festas\\r\\nEspaço torcedor com churrasqueira e TV\\r\\nQuadra esportiva com Arquibancada \\r\\nSalão de jogos Adulto\\r\\nEspaço Wi-Fi com Tv, Slackline e Half\\r\\nEspaço Gourmet com Churrasqueira\\r\\nEspaço Gourmet com Churrasqueira a carvão e forno de pizza a lenha\\r\\nPiscina com raia dupla 22 m com área de deck e piscina infantil\\r\\nPlayground com piso emborrachado\\r\\nSalão de jogos juvenil\\r\\nDiverteca\\r\\nFitness (com 4 ambientes)\\r\\nEspaço Cross fit\\r\\nEspaço Fitness para 3º idade\\r\\nCircuito de caminhada com indicação de distância\\r\\nEspaço pet\\r\\nEspaço fix\\r\\nCar Wash\\r\\nBicicletário',\n",
       " 'logo': 'https://imgs.kenlo.io/VWRCUkQ2Tnp3d1BJRDBJVe1szkhnWr9UfpZS9ftWwjXgr7v5Znen3XVcMHllDVRJJeIbi3YwVYEtu05i6Iw06k8+lM8XRYaUnwa12KGY3vmFgkGc58uO5u-c8-OjffeA0dkN3-TeKwWql6dcfYw3LFEmeclTZACwYL+QJkpxpwbVoh6SRqEbeHFMxT8FiCx1yFu8QJWFy3g82A2YK6nHtHecY-vKL2BhGrMNAdIz7EIJ8RC9W0J8p0oF7J6yoS7TO7S-K5+hxzlXFx5k9oa+Squ619jCLJU4Vr0lNm4L5VMZWe0S2-TJT-8+5wEDqv3JFhXchgzWgPAoc9j0Qd1NmqoHiArLGOFK7U-vw4zEgq2lORyAYFs897jO+KS3bfinTajyOWSjh5ZGpM3KKs5eYNj2XzYXAjMlcCEW5lWm6v3crkbmLDCK8VVHVhONg99q7HYkYAQDspFO7Suqxg==.jpg',\n",
       " 'neighborhood': 'Vila Industrial',\n",
       " 'neighborhood_display': 'Vila Industrial',\n",
       " 'photos': [{'picture_thumb': 'https://imgs.kenlo.io/VWRCUkQ2Tnp3d1BJRDBJVe1szkhnWr9UfpZS9ftWwjXgr7v5Znen3XVcMHllDVRJJeIbi3YwVYEtu05i6Iw06k8+lM8XRYaUnwa12KGY3vmFgkGc58uO5u-c8-OjffeA0dkN3-TeKwWql6dcfYw3LFEmeclTZACwYL+QJkpxpwbVoh6SRqEbeHFMxT8FiCx1yFu8QJWFy3g82A2YK6nHtHecY-vKL2BhGrMNAdIz7EIJ8RC9W0J8p0oF7J6yoS7TO7S-K5+hxzlXFx5k9oa+Squ619jCLJU4Vr0lNm4L5VMZWe0S2-TJT-8+5wEDqv3JFhXchgzWgPAoc9j0Qd1NmqoHiArLGOFK7U-vw4zEgq2lORyAYFs897jO+KS3bfinTajyOWSjh5ZGpM3KKs5eYNj2XzYXAjMlcCEW5lWm6v3crkbmLDCK8VVHVhONg99q7HYkYAQDspFO7Suqxg==.jpg',\n",
       "   'picture_full': 'https://imgs.kenlo.io/VWRCUkQ2Tnp3d1BJRDBJVe1szkhnWr9UfpZS9ftWwjXgr7v5Znen3XVcMHllDVRJJeIbi3YwVYEtu05i6Iw06k8+lM8XRYaUnwa12KGY3vmFgkGc58uO5u-c8-OjffeA0dkN3-TeKwWql6dcfYw3LFEmeclTZACwYL+QJkpxpwbVoh6SRqEbeHFMxT8FiCx1yFu8QJWFy3g82A2YK6nHtHecY-vKL2BhGrMNAdIz7EIJ8RC9W0J8p0oF7Jq1qTLdaOenJpi9yWxNWAZ8vJq+TqjzwtiOK59nSeUyO3cb51URUaJf1-aKA+9jrwcLou-TCwSW3hrDkec3f8vtBcFLmaUKkxDGE7Ed7hnqkoHPh6OkZhvXNQA19LqfqfLnOq-0TfzwJyWgj54Ms8+IPc9fIM-0XTQVACYycmIA7h2x6KvPtUztbXSQ5FcCWB3fnMM79G5lIQoN-44c9SWui4c=.jpg',\n",
       "   'photo_type': 'LISTING'},\n",
       "  {'picture_thumb': 'https://imgs.kenlo.io/VWRCUkQ2Tnp3d1BJRDBJVe1szkhnWr9UfpZS9ftWwjXgr7v5Znen3XVcMHllDVRJJeIbi3YwVYEtux5jwc9L7S4Mi8QiRYaUshCi06y2u+bGnByW4a37s7nUjNzSTMLf08Vg6J-1PH62tvJAavwVD19yUO51Yxz4ToavPUppoQGt-R-PEZ5eH0AJ9QBrtylLylSoWLKL0QMe2H+DILb8sxCeapejDFpQKLMNAdIz7EIJ8RC9W0J8p0oF7J6yoS7TO7S-K5+hxzlXFx5k9oa+Squ619jCLJU4Vr0lNm4L5VMZWe0S2-TJT-8+5wEDqv3JFhXchgzWgPAoc9j0Qd1NmqoHiArLGOFK7U-vw4zEgq2lORyAYFs897jO+KS3bfinTajyOWSjh5ZGpM3KKs5eYNj2XzYXAjMlcCEW5lWm6v3crkbmLDCK8VVHVhONg99q7HYkYAQDspFO7Suqxg==.jpg',\n",
       "   'picture_full': 'https://imgs.kenlo.io/VWRCUkQ2Tnp3d1BJRDBJVe1szkhnWr9UfpZS9ftWwjXgr7v5Znen3XVcMHllDVRJJeIbi3YwVYEtux5jwc9L7S4Mi8QiRYaUshCi06y2u+bGnByW4a37s7nUjNzSTMLf08Vg6J-1PH62tvJAavwVD19yUO51Yxz4ToavPUppoQGt-R-PEZ5eH0AJ9QBrtylLylSoWLKL0QMe2H+DILb8sxCeapejDFpQKLMNAdIz7EIJ8RC9W0J8p0oF7Jq1qTLdaOenJpi9yWxNWAZ8vJq+TqjzwtiOK59nSeUyO3cb51URUaJf1-aKA+9jrwcLou-TCwSW3hrDkec3f8vtBcFLmaUKkxDGE7Ed7hnqkoHPh6OkZhvXNQA19LqfqfLnOq-0TfzwJyWgj54Ms8+IPc9fIM-0XTQVACYycmIA7h2x6KvPtUztbXSQ5FcCWB3fnMM79G5lIQoN-44c9SWui4c=.jpg',\n",
       "   'photo_type': 'LISTING'},\n",
       "  {'picture_thumb': 'https://imgs.kenlo.io/VWRCUkQ2Tnp3d1BJRDBJVe1szkhnWr9UfpZS9ftWwjXgr7v5Znen3XVcMHllDVRJJeIbi3YwVYEtu2RO+v1lyjM6g-sre56kvgqYwrWP4IvInBq32MnJvJrR++zVB9jF-48jifXDCVXxrbNMFt4lEmB2QvIiRgfSZaCZPz1ToGGX-hqXFL59YDdugV4ynTp73F78Ypm83X8K0HD7LfT++neDSZ-9Cmt7CrMNAdIz7EIJ8RC9W0J8p0oF7J6yoS7TO7S-K5+hxzlXFx5k9oa+Squ619jCLJU4Vr0lNm4L5VMZWe0S2-TJT-8+5wEDqv3JFhXchgzWgPAoc9j0Qd1NmqoHiArLGOFK7U-vw4zEgq2lORyAYFs897jO+KS3bfinTajyOWSjh5ZGpM3KKs5eYNj2XzYXAjMlcCEW5lWm6v3crkbmLDCK8VVHVhONg99q7HYkYAQDspFO7Suqxg==.jpg',\n",
       "   'picture_full': 'https://imgs.kenlo.io/VWRCUkQ2Tnp3d1BJRDBJVe1szkhnWr9UfpZS9ftWwjXgr7v5Znen3XVcMHllDVRJJeIbi3YwVYEtu2RO+v1lyjM6g-sre56kvgqYwrWP4IvInBq32MnJvJrR++zVB9jF-48jifXDCVXxrbNMFt4lEmB2QvIiRgfSZaCZPz1ToGGX-hqXFL59YDdugV4ynTp73F78Ypm83X8K0HD7LfT++neDSZ-9Cmt7CrMNAdIz7EIJ8RC9W0J8p0oF7Jq1qTLdaOenJpi9yWxNWAZ8vJq+TqjzwtiOK59nSeUyO3cb51URUaJf1-aKA+9jrwcLou-TCwSW3hrDkec3f8vtBcFLmaUKkxDGE7Ed7hnqkoHPh6OkZhvXNQA19LqfqfLnOq-0TfzwJyWgj54Ms8+IPc9fIM-0XTQVACYycmIA7h2x6KvPtUztbXSQ5FcCWB3fnMM79G5lIQoN-44c9SWui4c=.jpg',\n",
       "   'photo_type': 'LISTING'},\n",
       "  {'picture_thumb': 'https://imgs.kenlo.io/VWRCUkQ2Tnp3d1BJRDBJVe1szkhnWr9UfpZS9ftWwjXgr7v5Znen3XVcMHllDVRJJeIbi3YwVYEtu0tKj5dK7R01qvEDUO-upjmb3ovI-9XDo2it8o+I4Zji3M7BRuPY9qYU6ZfvA0W9nZ9GY+U-dn5iQ7Bldxz1dJ+qJyAKrSSdrxT0Eotlc3Fi5Qo3kSdJ1kW0cqeixwIShgCCEPmDmgqXXL-2I3J5OM1HR9o47l9MqBG1U1ByqR9Q9JGypDLdaOenJpi9yWxNWAZ8vJq+TqjzwtiOK59nSeUyO3cb51URUaJf1-aKA+9jrwcLou-TCwSW3hrDkec3f8vtBcFLmaUKkxDGE7Ed7hnqkoHPh6OkZhvXNQA19LqfqfLnOq-0TfzwJyWgj54Ms8+IPc9fIM-0XTQVACYycmIA7h2x6KvPtUztbXSQ5FcCWB3fnMM79G5lIQoN-44c9SWui4c=.jpg',\n",
       "   'picture_full': 'https://imgs.kenlo.io/VWRCUkQ2Tnp3d1BJRDBJVe1szkhnWr9UfpZS9ftWwjXgr7v5Znen3XVcMHllDVRJJeIbi3YwVYEtu0tKj5dK7R01qvEDUO-upjmb3ovI-9XDo2it8o+I4Zji3M7BRuPY9qYU6ZfvA0W9nZ9GY+U-dn5iQ7Bldxz1dJ+qJyAKrSSdrxT0Eotlc3Fi5Qo3kSdJ1kW0cqeixwIShgCCEPmDmgqXXL-2I3J5OM1HR9o47l9MqBG1U1ByqR9Q9JG2ozrBZrT0PpW61WIYQklkpNCiTqzwi82OZ5htFvpqLHoC91cXWaoQmvqIQKNz8k8NqufBERmHlELVhPYgYMf+HIVXn6YFngvcHrpNuRq8l9DCjKaqZ0TQYlVu-bmd+KOxavijHvykJTvhjJYE+diKf9heIY-jXzYXAiQnZWBD+BX5-6mZplfnZjXU-kIAHRPRztwnpXZ9YEsD8cMDpz2gj8rx.jpg',\n",
       "   'photo_type': 'LISTING'},\n",
       "  {'picture_thumb': 'https://imgs.kenlo.io/VWRCUkQ2Tnp3d1BJRDBJVe1szkhnWr9UfpZS9ftWwjXgr7v5Znen3XVcMHllDVRJJeIbi3YwVYEtu2xY+841uCchzpsmVb6JpHm689iV--Wjj1XI8oPynZOG+cLwXZbn0IEl86OpNwW+srQ1SecLbWN7O-ciSE3vXMLcZEVjpgXdhmLDUZxxZmlI4gQpkTYBnEqaQpai2mI0yn6IAK3bkHavEvHEMAB1QPlLCdkx8QdQ8Bi1SUxy8h8d4563vSCAaKyyLIOvkiMYDwYu6oa6SeKv15TFJsonDqooL34J41sRFqAe2beFX6J24QkLuOfUB1+EkBnHl+8kYMGwXdtOlacckgfASLZJu0q+zofBjKz6PkvVO1I-9emfrvTgOqunGarseGerj9xRpo-dK88ed9r0XTQVFyQnMzcerkKkvO7HpE2naCqf8xBJWEGSn45y9DdlbgpOrcNW4y-n.jpg',\n",
       "   'picture_full': 'https://imgs.kenlo.io/VWRCUkQ2Tnp3d1BJRDBJVe1szkhnWr9UfpZS9ftWwjXgr7v5Znen3XVcMHllDVRJJeIbi3YwVYEtu2xY+841uCchzpsmVb6JpHm689iV--Wjj1XI8oPynZOG+cLwXZbn0IEl86OpNwW+srQ1SecLbWN7O-ciSE3vXMLcZEVjpgXdhmLDUZxxZmlI4gQpkTYBnEqaQpai2mI0yn6IAK3bkHavEvHEMAB1QPlLCdkx8QdQ8Bi1SUxy8h8d55m-oS7TO7S-K5+hxzlXFx5k9oa+Squ619jCLJU4Vr0lNm4L5VMZWe0S2-TJT-8+5wEDqv3JFhXchgzWgPAoc9j0Qd1NmqoHiArLGOFK7U-vw4zEgq2lORyAYFs897jO+KS3bfinTajyOWSjh5ZGpM3KKs5eYNj2XzYXAjMlcCEW5lWm6v3crkbmLDCK8VVHVhONg99q7HYkYAQDspFO7Suqxg==.jpg',\n",
       "   'photo_type': 'LISTING'},\n",
       "  {'picture_thumb': 'https://imgs.kenlo.io/VWRCUkQ2Tnp3d1BJRDBJVe1szkhnWr9UfpZS9ftWwjXgr7v5Znen3XVcMHllDVRJJeIbi3YwVYEtu0Be-8lh9xkxv+kjcr-lu2yJh5+rxdeX8mKIpZfYnr2e0ZLUevrOx7km347jGHP2v4VqWOF-KRxmSqxYTyDFQ5+JAylehCvQm0HdZpVrf0NX+hkPvyhvmXbpXbfy7XoxxSOJE-+AmiDQSJjsJAdTQPlLCdkx8QdQ8Bi1SUxy8h8d4563vSCAaKyyLIOvkiMYDwYu6oa6SeKv15TFJsonDqooL34J41sRFqAe2beFX6J24QkLuOfUB1+EkBnHl+8kYMGwXdtOlacckgfASLZJu0q+zofBjKz6PkvVO1I-9emfrvTgOqunGarseGerj9xRpo-dK88ed9r0XTQVFyQnMzcerkKkvO7HpE2naCqf8xBJWEGSn45y9DdlbgpOrcNW4y-n.jpg',\n",
       "   'picture_full': 'https://imgs.kenlo.io/VWRCUkQ2Tnp3d1BJRDBJVe1szkhnWr9UfpZS9ftWwjXgr7v5Znen3XVcMHllDVRJJeIbi3YwVYEtu0Be-8lh9xkxv+kjcr-lu2yJh5+rxdeX8mKIpZfYnr2e0ZLUevrOx7km347jGHP2v4VqWOF-KRxmSqxYTyDFQ5+JAylehCvQm0HdZpVrf0NX+hkPvyhvmXbpXbfy7XoxxSOJE-+AmiDQSJjsJAdTQPlLCdkx8QdQ8Bi1SUxy8h8d55m-oS7TO7S-K5+hxzlXFx5k9oa+Squ619jCLJU4Vr0lNm4L5VMZWe0S2-TJT-8+5wEDqv3JFhXchgzWgPAoc9j0Qd1NmqoHiArLGOFK7U-vw4zEgq2lORyAYFs897jO+KS3bfinTajyOWSjh5ZGpM3KKs5eYNj2XzYXAjMlcCEW5lWm6v3crkbmLDCK8VVHVhONg99q7HYkYAQDspFO7Suqxg==.jpg',\n",
       "   'photo_type': 'LISTING'},\n",
       "  {'picture_thumb': 'https://imgs.kenlo.io/VWRCUkQ2Tnp3d1BJRDBJVe1szkhnWr9UfpZS9ftWwjXgr7v5Znen3XVcMHllDVRJJeIbi3YwVYEtu0RV9tA0wk4Qis9HReKevy6ewdyVvY6gsByJ+4ONtez0jYbiGeffwZgcj5PqSWn37oJsGMw7M3hpP-J3Sg7AA5ncHl1urDmSqGXDSKIWW29owzwInQ4AwVaSTYCHrWEQ3iL-EarHuC7cRq+2NkZgHrMNAdIz7EIJ8RC9W0J8p0oF7J6yoS7TO7S-K5+hxzlXFx5k9oa+Squ619jCLJU4Vr0lNm4L5VMZWe0S2-TJT-8+5wEDqv3JFhXchgzWgPAoc9j0Qd1NmqoHiArLGOFK7U-vw4zEgq2lORyAYFs897jO+KS3bfinTajyOWSjh5ZGpM3KKs5eYNj2XzYXAjMlcCEW5lWm6v3crkbmLDCK8VVHVhONg99q7HYkYAQDspFO7Suqxg==.jpg',\n",
       "   'picture_full': 'https://imgs.kenlo.io/VWRCUkQ2Tnp3d1BJRDBJVe1szkhnWr9UfpZS9ftWwjXgr7v5Znen3XVcMHllDVRJJeIbi3YwVYEtu0RV9tA0wk4Qis9HReKevy6ewdyVvY6gsByJ+4ONtez0jYbiGeffwZgcj5PqSWn37oJsGMw7M3hpP-J3Sg7AA5ncHl1urDmSqGXDSKIWW29owzwInQ4AwVaSTYCHrWEQ3iL-EarHuC7cRq+2NkZgHrMNAdIz7EIJ8RC9W0J8p0oF7Jq1qTLdaOenJpi9yWxNWAZ8vJq+TqjzwtiOK59nSeUyO3cb51URUaJf1-aKA+9jrwcLou-TCwSW3hrDkec3f8vtBcFLmaUKkxDGE7Ed7hnqkoHPh6OkZhvXNQA19LqfqfLnOq-0TfzwJyWgj54Ms8+IPc9fIM-0XTQVACYycmIA7h2x6KvPtUztbXSQ5FcCWB3fnMM79G5lIQoN-44c9SWui4c=.jpg',\n",
       "   'photo_type': 'LISTING'},\n",
       "  {'picture_thumb': 'https://imgs.kenlo.io/VWRCUkQ2Tnp3d1BJRDBJVe1szkhnWr9UfpZS9ftWwjXgr7v5Znen3XVcMHllDVRJJeIbi3YwVYEtu1Vm4uNK2Tw5sMQaV72fsAja34fN--CogFatyI73rZjg2c2kDcjx1oUN9ferEXrpkLM5VtoQIVxGVtR6ZQLbQoObEWNqhyXUkVuTUplaezUN+lwZsyBzxkarUcebzUcZ8ij0Iu3JsRyDHPDsUWxTQPlLCdkx8QdQ8Bi1SUxy8h8d4563vSCAaKyyLIOvkiMYDwYu6oa6SeKv15TFJsonDqooL34J41sRFqAe2beFX6J24QkLuOfUB1+EkBnHl+8kYMGwXdtOlacckgfASLZJu0q+zofBjKz6PkvVO1I-9emfrvTgOqunGarseGerj9xRpo-dK88ed9r0XTQVFyQnMzcerkKkvO7HpE2naCqf8xBJWEGSn45y9DdlbgpOrcNW4y-n.jpg',\n",
       "   'picture_full': 'https://imgs.kenlo.io/VWRCUkQ2Tnp3d1BJRDBJVe1szkhnWr9UfpZS9ftWwjXgr7v5Znen3XVcMHllDVRJJeIbi3YwVYEtu1Vm4uNK2Tw5sMQaV72fsAja34fN--CogFatyI73rZjg2c2kDcjx1oUN9ferEXrpkLM5VtoQIVxGVtR6ZQLbQoObEWNqhyXUkVuTUplaezUN+lwZsyBzxkarUcebzUcZ8ij0Iu3JsRyDHPDsUWxTQPlLCdkx8QdQ8Bi1SUxy8h8d55m-oS7TO7S-K5+hxzlXFx5k9oa+Squ619jCLJU4Vr0lNm4L5VMZWe0S2-TJT-8+5wEDqv3JFhXchgzWgPAoc9j0Qd1NmqoHiArLGOFK7U-vw4zEgq2lORyAYFs897jO+KS3bfinTajyOWSjh5ZGpM3KKs5eYNj2XzYXAjMlcCEW5lWm6v3crkbmLDCK8VVHVhONg99q7HYkYAQDspFO7Suqxg==.jpg',\n",
       "   'photo_type': 'LISTING'},\n",
       "  {'picture_thumb': 'https://imgs.kenlo.io/VWRCUkQ2Tnp3d1BJRDBJVe1szkhnWr9UfpZS9ftWwjXgr7v5Znen3XVcMHllDVRJJeIbi3YwVYEtuwJ+3Mk2wQsuvM49QoKV5HOn+YKsyPSBqkS6osL5mb-kj5-EfeSC56wBjrCvN1iVnJl5W9sLFG1jePMlQRHxYoa3OlJmqD7c90znEYMcTXpVxF4AjBxB-F+Ge6rx8Q8A8SajUqOdtjPRSZnpREJlQPlLCdkx8QdQ8Bi1SUxy8h8d4563vSCAaKyyLIOvkiMYDwYu6oa6SeKv15TFJsonDqooL34J41sRFqAe2beFX6J24QkLuOfUB1+EkBnHl+8kYMGwXdtOlacckgfASLZJu0q+zofBjKz6PkvVO1I-9emfrvTgOqunGarseGerj9xRpo-dK88ed9r0XTQVFyQnMzcerkKkvO7HpE2naCqf8xBJWEGSn45y9DdlbgpOrcNW4y-n.jpg',\n",
       "   'picture_full': 'https://imgs.kenlo.io/VWRCUkQ2Tnp3d1BJRDBJVe1szkhnWr9UfpZS9ftWwjXgr7v5Znen3XVcMHllDVRJJeIbi3YwVYEtuwJ+3Mk2wQsuvM49QoKV5HOn+YKsyPSBqkS6osL5mb-kj5-EfeSC56wBjrCvN1iVnJl5W9sLFG1jePMlQRHxYoa3OlJmqD7c90znEYMcTXpVxF4AjBxB-F+Ge6rx8Q8A8SajUqOdtjPRSZnpREJlQPlLCdkx8QdQ8Bi1SUxy8h8d55m-oS7TO7S-K5+hxzlXFx5k9oa+Squ619jCLJU4Vr0lNm4L5VMZWe0S2-TJT-8+5wEDqv3JFhXchgzWgPAoc9j0Qd1NmqoHiArLGOFK7U-vw4zEgq2lORyAYFs897jO+KS3bfinTajyOWSjh5ZGpM3KKs5eYNj2XzYXAjMlcCEW5lWm6v3crkbmLDCK8VVHVhONg99q7HYkYAQDspFO7Suqxg==.jpg',\n",
       "   'photo_type': 'LISTING'},\n",
       "  {'picture_thumb': 'https://imgs.kenlo.io/VWRCUkQ2Tnp3d1BJRDBJVe1szkhnWr9UfpZS9ftWwjXgr7v5Znen3XVcMHllDVRJJeIbi3YwVYEtu3BO+oh1xhsxtpA8R5mSmXec-Jy2ydbAqVbI2bD44u-7kPGjd5yO0aZm6qHqLlO+voBDH-A1YkpjZM4lciLoT9qjZGFTs2KnhV+cRJdeHXJe9DoSiCBBxFuzR7z1+nkZxCiAUt3duiWjbLzXCnxNPLMNAdIz7EIJ8RC9W0J8p0oF7J6yoS7TO7S-K5+hxzlXFx5k9oa+Squ619jCLJU4Vr0lNm4L5VMZWe0S2-TJT-8+5wEDqv3JFhXchgzWgPAoc9j0Qd1NmqoHiArLGOFK7U-vw4zEgq2lORyAYFs897jO+KS3bfinTajyOWSjh5ZGpM3KKs5eYNj2XzYXAjMlcCEW5lWm6v3crkbmLDCK8VVHVhONg99q7HYkYAQDspFO7Suqxg==.jpg',\n",
       "   'picture_full': 'https://imgs.kenlo.io/VWRCUkQ2Tnp3d1BJRDBJVe1szkhnWr9UfpZS9ftWwjXgr7v5Znen3XVcMHllDVRJJeIbi3YwVYEtu3BO+oh1xhsxtpA8R5mSmXec-Jy2ydbAqVbI2bD44u-7kPGjd5yO0aZm6qHqLlO+voBDH-A1YkpjZM4lciLoT9qjZGFTs2KnhV+cRJdeHXJe9DoSiCBBxFuzR7z1+nkZxCiAUt3duiWjbLzXCnxNPLMNAdIz7EIJ8RC9W0J8p0oF7Jq1qTLdaOenJpi9yWxNWAZ8vJq+TqjzwtiOK59nSeUyO3cb51URUaJf1-aKA+9jrwcLou-TCwSW3hrDkec3f8vtBcFLmaUKkxDGE7Ed7hnqkoHPh6OkZhvXNQA19LqfqfLnOq-0TfzwJyWgj54Ms8+IPc9fIM-0XTQVACYycmIA7h2x6KvPtUztbXSQ5FcCWB3fnMM79G5lIQoN-44c9SWui4c=.jpg',\n",
       "   'photo_type': 'LISTING'},\n",
       "  {'picture_thumb': 'https://imgs.kenlo.io/VWRCUkQ2Tnp3d1BJRDBJVe1szkhnWr9UfpZS9ftWwjXgr7v5Znen3XVcMHllDVRJJeIbi3YwVYEtu048gf9uyi5jvPo9DZq7lRSBm7Kr5fqdqmWvysj74emAzNP5c5v9xJ0OlOvEABu3ofA6We08NVtyR7NDfSLrRZucZ09z-mehn1XEYokbGmcPgwUOky8Mnni-fZ+v8XQZ+A+1VfPFr3fdRri8LHxDQPlLCdkx8QdQ8Bi1SUxy8h8d4563vSCAaKyyLIOvkiMYDwYu6oa6SeKv15TFJsonDqooL34J41sRFqAe2beFX6J24QkLuOfUB1+EkBnHl+8kYMGwXdtOlacckgfASLZJu0q+zofBjKz6PkvVO1I-9emfrvTgOqunGarseGerj9xRpo-dK88ed9r0XTQVFyQnMzcerkKkvO7HpE2naCqf8xBJWEGSn45y9DdlbgpOrcNW4y-n.jpg',\n",
       "   'picture_full': 'https://imgs.kenlo.io/VWRCUkQ2Tnp3d1BJRDBJVe1szkhnWr9UfpZS9ftWwjXgr7v5Znen3XVcMHllDVRJJeIbi3YwVYEtu048gf9uyi5jvPo9DZq7lRSBm7Kr5fqdqmWvysj74emAzNP5c5v9xJ0OlOvEABu3ofA6We08NVtyR7NDfSLrRZucZ09z-mehn1XEYokbGmcPgwUOky8Mnni-fZ+v8XQZ+A+1VfPFr3fdRri8LHxDQPlLCdkx8QdQ8Bi1SUxy8h8d55m-oS7TO7S-K5+hxzlXFx5k9oa+Squ619jCLJU4Vr0lNm4L5VMZWe0S2-TJT-8+5wEDqv3JFhXchgzWgPAoc9j0Qd1NmqoHiArLGOFK7U-vw4zEgq2lORyAYFs897jO+KS3bfinTajyOWSjh5ZGpM3KKs5eYNj2XzYXAjMlcCEW5lWm6v3crkbmLDCK8VVHVhONg99q7HYkYAQDspFO7Suqxg==.jpg',\n",
       "   'photo_type': 'LISTING'},\n",
       "  {'picture_thumb': 'https://imgs.kenlo.io/VWRCUkQ2Tnp3d1BJRDBJVe1szkhnWr9UfpZS9ftWwjXgr7v5Znen3XVcMHllDVRJJeIbi3YwVYEtu1oi0NhnwU4dmMtceaDl4gnd3dmy2o+cjkq25bnXjrbdhMr9TunO+bw63ozDFm7wja5IVOE4OR57f9cqWxfvRaSQO0VIvR2AnxnOXpVZXzJR+Cctlgtf4UPoV6fx6HUB+guiFerK+hTQUJneL3VDQPlLCdkx8QdQ8Bi1SUxy8h8d4563vSCAaKyyLIOvkiMYDwYu6oa6SeKv15TFJsonDqooL34J41sRFqAe2beFX6J24QkLuOfUB1+EkBnHl+8kYMGwXdtOlacckgfASLZJu0q+zofBjKz6PkvVO1I-9emfrvTgOqunGarseGerj9xRpo-dK88ed9r0XTQVFyQnMzcerkKkvO7HpE2naCqf8xBJWEGSn45y9DdlbgpOrcNW4y-n.jpg',\n",
       "   'picture_full': 'https://imgs.kenlo.io/VWRCUkQ2Tnp3d1BJRDBJVe1szkhnWr9UfpZS9ftWwjXgr7v5Znen3XVcMHllDVRJJeIbi3YwVYEtu1oi0NhnwU4dmMtceaDl4gnd3dmy2o+cjkq25bnXjrbdhMr9TunO+bw63ozDFm7wja5IVOE4OR57f9cqWxfvRaSQO0VIvR2AnxnOXpVZXzJR+Cctlgtf4UPoV6fx6HUB+guiFerK+hTQUJneL3VDQPlLCdkx8QdQ8Bi1SUxy8h8d55m-oS7TO7S-K5+hxzlXFx5k9oa+Squ619jCLJU4Vr0lNm4L5VMZWe0S2-TJT-8+5wEDqv3JFhXchgzWgPAoc9j0Qd1NmqoHiArLGOFK7U-vw4zEgq2lORyAYFs897jO+KS3bfinTajyOWSjh5ZGpM3KKs5eYNj2XzYXAjMlcCEW5lWm6v3crkbmLDCK8VVHVhONg99q7HYkYAQDspFO7Suqxg==.jpg',\n",
       "   'photo_type': 'LISTING'},\n",
       "  {'picture_thumb': 'https://imgs.kenlo.io/VWRCUkQ2Tnp3d1BJRDBJVe1szkhnWr9UfpZS9ftWwjXgr7v5Znen3XVcMHllDVRJJeIbi3YwVYEtu2x1-Zc--C09quBcRoCevjSZ256Y19K+g0-I8qzznLrg6ePQeeiHyLAjgYjxDVW1na5paOwjLkd2Z9JCaif7Vp3bIER8hgOonETkXaVARVZk8C0YnTVLmAeCeomg0G9g2RG6UsjDlxede-z0IE1DQPlLCdkx8QdQ8Bi1SUxy8h8d4563vSCAaKyyLIOvkiMYDwYu6oa6SeKv15TFJsonDqooL34J41sRFqAe2beFX6J24QkLuOfUB1+EkBnHl+8kYMGwXdtOlacckgfASLZJu0q+zofBjKz6PkvVO1I-9emfrvTgOqunGarseGerj9xRpo-dK88ed9r0XTQVFyQnMzcerkKkvO7HpE2naCqf8xBJWEGSn45y9DdlbgpOrcNW4y-n.jpg',\n",
       "   'picture_full': 'https://imgs.kenlo.io/VWRCUkQ2Tnp3d1BJRDBJVe1szkhnWr9UfpZS9ftWwjXgr7v5Znen3XVcMHllDVRJJeIbi3YwVYEtu2x1-Zc--C09quBcRoCevjSZ256Y19K+g0-I8qzznLrg6ePQeeiHyLAjgYjxDVW1na5paOwjLkd2Z9JCaif7Vp3bIER8hgOonETkXaVARVZk8C0YnTVLmAeCeomg0G9g2RG6UsjDlxede-z0IE1DQPlLCdkx8QdQ8Bi1SUxy8h8d55m-oS7TO7S-K5+hxzlXFx5k9oa+Squ619jCLJU4Vr0lNm4L5VMZWe0S2-TJT-8+5wEDqv3JFhXchgzWgPAoc9j0Qd1NmqoHiArLGOFK7U-vw4zEgq2lORyAYFs897jO+KS3bfinTajyOWSjh5ZGpM3KKs5eYNj2XzYXAjMlcCEW5lWm6v3crkbmLDCK8VVHVhONg99q7HYkYAQDspFO7Suqxg==.jpg',\n",
       "   'photo_type': 'LISTING'},\n",
       "  {'picture_thumb': 'https://imgs.kenlo.io/VWRCUkQ2Tnp3d1BJRDBJVe1szkhnWr9UfpZS9ftWwjXgr7v5Znen3XVcMHllDVRJJeIbi3YwVYEtu0tC8ulZ+AVvg9Y+QYWlrTKL+o+v6NvGgWKR+7yOhpHUiM6lcfDh9K8Q9JXXJWfx6PFBHcN9GGN8e80mejzUD6TFPyhUpQCVgEX6aKRET11L+yRtjB5P2HChVqaM9AY38g-9EdDYtGu1ffroWFttCrMNAdIz7EIJ8RC9W0J8p0oF7J6yoS7TO7S-K5+hxzlXFx5k9oa+Squ619jCLJU4Vr0lNm4L5VMZWe0S2-TJT-8+5wEDqv3JFhXchgzWgPAoc9j0Qd1NmqoHiArLGOFK7U-vw4zEgq2lORyAYFs897jO+KS3bfinTajyOWSjh5ZGpM3KKs5eYNj2XzYXAjMlcCEW5lWm6v3crkbmLDCK8VVHVhONg99q7HYkYAQDspFO7Suqxg==.jpg',\n",
       "   'picture_full': 'https://imgs.kenlo.io/VWRCUkQ2Tnp3d1BJRDBJVe1szkhnWr9UfpZS9ftWwjXgr7v5Znen3XVcMHllDVRJJeIbi3YwVYEtu0tC8ulZ+AVvg9Y+QYWlrTKL+o+v6NvGgWKR+7yOhpHUiM6lcfDh9K8Q9JXXJWfx6PFBHcN9GGN8e80mejzUD6TFPyhUpQCVgEX6aKRET11L+yRtjB5P2HChVqaM9AY38g-9EdDYtGu1ffroWFttCrMNAdIz7EIJ8RC9W0J8p0oF7Jq1qTLdaOenJpi9yWxNWAZ8vJq+TqjzwtiOK59nSeUyO3cb51URUaJf1-aKA+9jrwcLou-TCwSW3hrDkec3f8vtBcFLmaUKkxDGE7Ed7hnqkoHPh6OkZhvXNQA19LqfqfLnOq-0TfzwJyWgj54Ms8+IPc9fIM-0XTQVACYycmIA7h2x6KvPtUztbXSQ5FcCWB3fnMM79G5lIQoN-44c9SWui4c=.jpg',\n",
       "   'photo_type': 'LISTING'},\n",
       "  {'picture_thumb': 'https://imgs.kenlo.io/VWRCUkQ2Tnp3d1BJRDBJVe1szkhnWr9UfpZS9ftWwjXgr7v5Znen3XVcMHllDVRJJeIbi3YwVYEtu3ZF8vVf2SkEgpAFUKeJjQObwqyd6P6u9EWZ2aTYnKz4hcLmAMeB2ak17PSqE33wqv41a+F-EkFyZbImHEPqeYekOydAh2i7rXz8bJZIfUVn3CVszgUK3nC-V53w72kK9x+fM6LV8hSgQpr3OntdJPxHR9o47l9MqBG1U1ByqR9Q9JGypDLdaOenJpi9yWxNWAZ8vJq+TqjzwtiOK59nSeUyO3cb51URUaJf1-aKA+9jrwcLou-TCwSW3hrDkec3f8vtBcFLmaUKkxDGE7Ed7hnqkoHPh6OkZhvXNQA19LqfqfLnOq-0TfzwJyWgj54Ms8+IPc9fIM-0XTQVACYycmIA7h2x6KvPtUztbXSQ5FcCWB3fnMM79G5lIQoN-44c9SWui4c=.jpg',\n",
       "   'picture_full': 'https://imgs.kenlo.io/VWRCUkQ2Tnp3d1BJRDBJVe1szkhnWr9UfpZS9ftWwjXgr7v5Znen3XVcMHllDVRJJeIbi3YwVYEtu3ZF8vVf2SkEgpAFUKeJjQObwqyd6P6u9EWZ2aTYnKz4hcLmAMeB2ak17PSqE33wqv41a+F-EkFyZbImHEPqeYekOydAh2i7rXz8bJZIfUVn3CVszgUK3nC-V53w72kK9x+fM6LV8hSgQpr3OntdJPxHR9o47l9MqBG1U1ByqR9Q9JG2ozrBZrT0PpW61WIYQklkpNCiTqzwi82OZ5htFvpqLHoC91cXWaoQmvqIQKNz8k8NqufBERmHlELVhPYgYMf+HIVXn6YFngvcHrpNuRq8l9DCjKaqZ0TQYlVu-bmd+KOxavijHvykJTvhjJYE+diKf9heIY-jXzYXAiQnZWBD+BX5-6mZplfnZjXU-kIAHRPRztwnpXZ9YEsD8cMDpz2gj8rx.jpg',\n",
       "   'photo_type': 'LISTING'},\n",
       "  {'picture_thumb': 'https://imgs.kenlo.io/VWRCUkQ2Tnp3d1BJRDBJVe1szkhnWr9UfpZS9ftWwjXgr7v5Znen3XVcMHllDVRJJeIbi3YwVYEtuwJFydZo5AcvitEnXa2svyimx6K0w8+fvWWno4rotaiBxcntDMbE1JEO4ZXuIkGR4vBDdvkiL0F8W+N9ag3DQ5iLPENmvR++hB7oZqNFSVAEjiQMnBFxwAOIGMOi+3s75Dz9Cqj9iXbSUb7bUGtaLLMNAdIz7EIJ8RC9W0J8p0oF7J6yoS7TO7S-K5+hxzlXFx5k9oa+Squ619jCLJU4Vr0lNm4L5VMZWe0S2-TJT-8+5wEDqv3JFhXchgzWgPAoc9j0Qd1NmqoHiArLGOFK7U-vw4zEgq2lORyAYFs897jO+KS3bfinTajyOWSjh5ZGpM3KKs5eYNj2XzYXAjMlcCEW5lWm6v3crkbmLDCK8VVHVhONg99q7HYkYAQDspFO7Suqxg==.jpg',\n",
       "   'picture_full': 'https://imgs.kenlo.io/VWRCUkQ2Tnp3d1BJRDBJVe1szkhnWr9UfpZS9ftWwjXgr7v5Znen3XVcMHllDVRJJeIbi3YwVYEtuwJFydZo5AcvitEnXa2svyimx6K0w8+fvWWno4rotaiBxcntDMbE1JEO4ZXuIkGR4vBDdvkiL0F8W+N9ag3DQ5iLPENmvR++hB7oZqNFSVAEjiQMnBFxwAOIGMOi+3s75Dz9Cqj9iXbSUb7bUGtaLLMNAdIz7EIJ8RC9W0J8p0oF7Jq1qTLdaOenJpi9yWxNWAZ8vJq+TqjzwtiOK59nSeUyO3cb51URUaJf1-aKA+9jrwcLou-TCwSW3hrDkec3f8vtBcFLmaUKkxDGE7Ed7hnqkoHPh6OkZhvXNQA19LqfqfLnOq-0TfzwJyWgj54Ms8+IPc9fIM-0XTQVACYycmIA7h2x6KvPtUztbXSQ5FcCWB3fnMM79G5lIQoN-44c9SWui4c=.jpg',\n",
       "   'photo_type': 'LISTING'}],\n",
       " 'picture_full': 'https://imgs.kenlo.io/VWRCUkQ2Tnp3d1BJRDBJVe1szkhnWr9UfpZS9ftWwjXgr7v5Znen3XVcMHllDVRJJeIbi3YwVYEtu05i6Iw06k8+lM8XRYaUnwa12KGY3vmFgkGc58uO5u-c8-OjffeA0dkN3-TeKwWql6dcfYw3LFEmeclTZACwYL+QJkpxpwbVoh6SRqEbeHFMxT8FiCx1yFu8QJWFy3g82A2YK6nHtHecY-vKL2BhGrMNAdIz7EIJ8RC9W0J8p0oF7Jq1qTLdaOenJpi9yWxNWAZ8vJq+TqjzwtiOK59nSeUyO3cb51URUaJf1-aKA+9jrwcLou-TCwSW3hrDkec3f8vtBcFLmaUKkxDGE7Ed7hnqkoHPh6OkZhvXNQA19LqfqfLnOq-0TfzwJyWgj54Ms8+IPc9fIM-0XTQVACYycmIA7h2x6KvPtUztbXSQ5FcCWB3fnMM79G5lIQoN-44c9SWui4c=.jpg',\n",
       " 'picture_title': '',\n",
       " 'picture_thumb': 'https://imgs.kenlo.io/VWRCUkQ2Tnp3d1BJRDBJVe1szkhnWr9UfpZS9ftWwjXgr7v5Znen3XVcMHllDVRJJeIbi3YwVYEtu05i6Iw06k8+lM8XRYaUnwa12KGY3vmFgkGc58uO5u-c8-OjffeA0dkN3-TeKwWql6dcfYw3LFEmeclTZACwYL+QJkpxpwbVoh6SRqEbeHFMxT8FiCx1yFu8QJWFy3g82A2YK6nHtHecY-vKL2BhGrMNAdIz7EIJ8RC9W0J8p0oF7J6yoS7TO7S-K5+hxzlXFx5k9oa+Squ619jCLJU4Vr0lNm4L5VMZWe0S2-TJT-8+5wEDqv3JFhXchgzWgPAoc9j0Qd1NmqoHiArLGOFK7U-vw4zEgq2lORyAYFs897jO+KS3bfinTajyOWSjh5ZGpM3KKs5eYNj2XzYXAjMlcCEW5lWm6v3crkbmLDCK8VVHVhONg99q7HYkYAQDspFO7Suqxg==.jpg',\n",
       " 'property_full_reference': 'AP9198-GT',\n",
       " 'property_metreage': 'SQFT',\n",
       " 'property_purposes': 'FOR_SALE',\n",
       " 'property_tax': 1438.4,\n",
       " 'property_tax_payment': 'YEARLY',\n",
       " 'property_type': 'APARTMENT',\n",
       " 'rent_guarantee': [],\n",
       " 'rent_payment': 'MONTHLY',\n",
       " 'rent_price': [0, 0],\n",
       " 'retail_price_expiration': '',\n",
       " 'rules': [],\n",
       " 'sale_price': [467908.14, 467908.14],\n",
       " 'show_price': 'SALE',\n",
       " 'state': 'SP',\n",
       " 'suites': [1, 1],\n",
       " 'type': 'imob_property',\n",
       " 'video_url': '',\n",
       " 'website_title': 'Apartamento de 70 m² Vila Industrial - São José dos Campos, à venda por R$ 467.908,14',\n",
       " 'breadcrumbs': [{'text': 'Imóveis', 'path': 'imoveis'},\n",
       "  {'text': 'À venda', 'path': 'imoveis/a-venda'},\n",
       "  {'text': 'Apartamento', 'path': 'imoveis/a-venda/apartamento'},\n",
       "  {'text': 'São José dos Campos',\n",
       "   'path': 'imoveis/a-venda/apartamento/sao-jose-dos-campos'},\n",
       "  {'text': 'Vila Industrial',\n",
       "   'path': 'imoveis/a-venda/apartamento/sao-jose-dos-campos/vila-industrial'}],\n",
       " 'heading1': 'Apartamento com 3 quartos, 70 m²',\n",
       " 'heading2': 'Vila Industrial - São José dos Campos/SP',\n",
       " 'url': '/imovel/apartamento-de-70-m-vila-industrial-sao-jose-dos-campos-a-venda-por-467908/AP9198-GT'}"
      ]
     },
     "execution_count": null,
     "metadata": {},
     "output_type": "execute_result"
    }
   ],
   "source": [
    "res.json()['data'][0]"
   ]
  },
  {
   "cell_type": "code",
   "execution_count": null,
   "id": "544a01fc-9911-45b4-8d4e-89110613ae2e",
   "metadata": {},
   "outputs": [
    {
     "data": {
      "text/plain": [
       "dict_keys(['data', 'count', 'aggs', 'coordinates', 'title', 'self'])"
      ]
     },
     "execution_count": null,
     "metadata": {},
     "output_type": "execute_result"
    }
   ],
   "source": [
    "p2.keys()"
   ]
  },
  {
   "cell_type": "markdown",
   "id": "02357941-f501-4f7c-9b5b-3bafcd6c8434",
   "metadata": {},
   "source": [
    "# Imoveis I9Vale, premium imoveis"
   ]
  },
  {
   "cell_type": "code",
   "execution_count": null,
   "id": "091deab1-b93f-4e9d-b731-6ef80ab7e2be",
   "metadata": {},
   "outputs": [],
   "source": [
    "response = scrapy.Request.from_curl(\"\"\"curl 'https://www.i9vale.com.br/api/listings/a-venda/sao-jose-dos-campos?pagina=2' -H 'User-Agent: Mozilla/5.0 (Macintosh; Intel Mac OS X 10.15; rv:109.0) Gecko/20100101 Firefox/111.0' -H 'Accept: */*' -H 'Accept-Language: en-US,es-CL;q=0.7,pt;q=0.3' -H 'Accept-Encoding: gzip, deflate, br' -H 'X-Requested-With: XMLHttpRequest' -H 'DNT: 1' -H 'Connection: keep-alive' -H 'Referer: https://www.i9vale.com.br/imoveis/a-venda/sao-jose-dos-campos' -H 'Cookie: referer=DirectAccess; uniqID=d8678daa7c8a269fc146cec9714d; listingviewmode=GRID; accepted_cookie_policy=true' -H 'Sec-Fetch-Dest: empty' -H 'Sec-Fetch-Mode: cors' -H 'Sec-Fetch-Site: same-origin' -H 'Pragma: no-cache' -H 'Cache-Control: no-cache'\"\"\")"
   ]
  },
  {
   "cell_type": "code",
   "execution_count": null,
   "id": "244d6dc7-afcf-460e-bf64-7d4830879d42",
   "metadata": {},
   "outputs": [
    {
     "data": {
      "text/plain": [
       "'https://www.i9vale.com.br/api/listings/a-venda/sao-jose-dos-campos?pagina=2'"
      ]
     },
     "execution_count": null,
     "metadata": {},
     "output_type": "execute_result"
    }
   ],
   "source": [
    "response.url"
   ]
  },
  {
   "cell_type": "code",
   "execution_count": null,
   "id": "feb27dd5-29b3-462c-b41d-8221abfbcb91",
   "metadata": {},
   "outputs": [
    {
     "data": {
      "text/plain": [
       "{'user-agent': 'Mozilla/5.0 (Macintosh; Intel Mac OS X 10.15; rv:109.0) Gecko/20100101 Firefox/111.0',\n",
       " 'accept': '*/*',\n",
       " 'accept-language': 'en-US,es-CL;q=0.7,pt;q=0.3',\n",
       " 'accept-encoding': 'gzip, deflate, br',\n",
       " 'x-requested-with': 'XMLHttpRequest',\n",
       " 'dnt': '1',\n",
       " 'connection': 'keep-alive',\n",
       " 'referer': 'https://www.i9vale.com.br/imoveis/a-venda/sao-jose-dos-campos',\n",
       " 'sec-fetch-dest': 'empty',\n",
       " 'sec-fetch-mode': 'cors',\n",
       " 'sec-fetch-site': 'same-origin',\n",
       " 'pragma': 'no-cache',\n",
       " 'cache-control': 'no-cache'}"
      ]
     },
     "execution_count": null,
     "metadata": {},
     "output_type": "execute_result"
    }
   ],
   "source": [
    "response.headers.to_unicode_dict()"
   ]
  },
  {
   "cell_type": "code",
   "execution_count": null,
   "id": "ff8e3beb-7ff8-471a-8b6f-c74bdb582484",
   "metadata": {},
   "outputs": [],
   "source": [
    "client = requests.Session()\n",
    "res = client.get('https://www.i9vale.com.br')\n",
    "headers = response.headers.to_unicode_dict()\n",
    "# headers['accept'] = 'application/json'"
   ]
  },
  {
   "cell_type": "code",
   "execution_count": null,
   "id": "b69d1c03-c27b-4753-9fe0-714eceb1c2d2",
   "metadata": {},
   "outputs": [],
   "source": [
    "res = client.get('https://www.i9vale.com.br/api/listings/a-venda/sao-jose-dos-campos?pagina=1',headers=headers)"
   ]
  },
  {
   "cell_type": "code",
   "execution_count": null,
   "id": "404f9c50-4822-4e26-920e-8c219fd185be",
   "metadata": {},
   "outputs": [
    {
     "data": {
      "text/plain": [
       "{'amenities': ['BARBECUE_GRILL',\n",
       "  'GATED_COMMUNITY',\n",
       "  'FEATURED',\n",
       "  'EXCLUSIVE',\n",
       "  'PICTURES',\n",
       "  'FIREPLACE',\n",
       "  'EXCHANGE',\n",
       "  'SUPER_FEATURED',\n",
       "  'AIR_CONDITIONING',\n",
       "  'SWIMMING_POOL',\n",
       "  'GOURMET_BALCONY',\n",
       "  'SITE',\n",
       "  'FULL_URL',\n",
       "  'SEWER',\n",
       "  'WATER',\n",
       "  'ELEVATOR',\n",
       "  'SOLAR_HEATING',\n",
       "  'PAVING',\n",
       "  'ELECTRIC_ENERGY',\n",
       "  'PANTRY',\n",
       "  'KITCHEN',\n",
       "  'LAUNDRY_ROOM_BR',\n",
       "  'BACKYARD',\n",
       "  'SPORTS_COURT',\n",
       "  'SOLARIUM',\n",
       "  'OFFICE',\n",
       "  'VERANDA',\n",
       "  'HYDROMASSAGE_BATHTUB',\n",
       "  'HALFBATH',\n",
       "  'CABINET_KITCHEN',\n",
       "  'CABINET_LAUNDRY_ROOM',\n",
       "  'FLOOR_PORCELAIN_TILES',\n",
       "  'PET_FRIENDLY'],\n",
       " 'area': [435, 435],\n",
       " 'bathrooms': [6, 6],\n",
       " 'bedrooms': [5, 5],\n",
       " 'brokers': [],\n",
       " 'city': 'São José dos Campos',\n",
       " 'condo_description': 'Alphaville Club\\r\\nO Alphaville Club tem o objetivo de estimular hábitos saudáveis e promover a convivência entre os moradores. A distribuição das quadras, a posição das piscinas, o estilo da sede social formam um conjunto caracterizado pela atmosfera de descontração e exclusividade, com nichos arborizados, espaços amplos e visuais panorâmicos do entorno. O núcleo da vida social é a Club House. Com 915 m², tem extensas varandas e terraços interligados por passarelas cobertas. No interior, ambientes como salão de jogos, fitness center e terraço com bar.\\r\\nMeio Ambiente\\r\\n4 praças temáticas em meio ao verde\\r\\nAlphaville São José dos Campos oferece mais de 574 mil m² de áreas verdes.\\r\\n121 m² de verde por morador\\r\\nAlphaville São josé dos Campos é rico em áreas verdes, provenientes tanto de suas paisagens preexistentes quanto dos tratamentos paisagísticos. A topografia do terreno valoriza os cenários naturais, localizado em um ponto alto, com visão panorâmica da Serra da Mantiqueira. Do total de 1.630.982,771 m², 574.807 m² são áreas verdes, sendo que 284.854 m² correspondem a uma Área de Preservação Permanente. Dessa forma, o Alphaville vai propiciar uma média de 121 de verde por morador, coeficiente mais de 10 vezes superior ao padrão recomendado pela Organização Mundial de Saúde.',\n",
       " 'condo_fees': 600,\n",
       " 'condo_name': 'Alphaville II São José dos Campos',\n",
       " 'contacts': [],\n",
       " 'from': 'IMOB',\n",
       " 'garages': [4, 4],\n",
       " 'has_simulator': True,\n",
       " 'index': 'listings',\n",
       " 'listing_description': 'Casa de alto padrão com vista incrível para montanhas da serra da mantiqueira com 5 suítes à venda, casa 405m2 mais a piscina Condomínio Alphaville II - SJCampos/SP.\\r\\n\\r\\nLocalização e terreno premium perto da portaria e clube, lote com pequeno declive, casa solta e amplitude total, a procura pelo bem estar do dia a dia e conexão com a natureza foi a base para esse projeto magnífico para você e sua família viver uma experiência única e exclusiva.\\r\\n\\r\\nEm construção: Previsão de entrega Abril/2023\\r\\n\\r\\nCom acabamentos de materiais nobres e tecnologia de construção inovadora com tecnologia e ponta para qualidade insuperável.\\r\\n\\r\\nNo pavimento térreo a entrada já possui sala multiuso (escritório ou home cinema) podendo ser reversível para suíte térrea e após sala de estar e tv com uma vista aberta para o condomínio, simplesmente um espetáculo da natureza e ainda conta com sala de jantar integrada com a cozinha planejada com ilha e lavado com acabamentos incríveis.\\r\\nAinda conta com área de serviço e deposito hobby box.\\r\\nO projeto proporciona uma área de lazer diferenciada com espaço de terreno.\\r\\nPiscina com preparação para aquecimento solar, spa.\\r\\n\\r\\nO pavimento superior possui 4 suítes amplas (3 com sacadas) e uma delas suíte master com vista panorâmica e um presente para quem reside nela (um mirante espetacular) na suíte master, com spa, duchas e cubas duplas e closet privativo, todos ambientes com preparação para ar condicionado e automação.\\r\\nProjeto diferenciado com materiais nobres com esse belo projeto do renomado arquiteto Marcelo Ohira.\\r\\n\\r\\nO projeto foi planejado para famílias exigentes que buscam requinte e querem viver muito bem. Agende uma visita e encante!\\r\\n\\r\\nAgende uma consultoria com especialistas em alto padrão que te entende e fará o melhor negócio para você e ajudará a encontrar o imóvel ideal de acordo com o que você busca!\\r\\n\\r\\nVenda exclusiva i9vale imóveis luxo SJCampos e região, especialistas em entender você!',\n",
       " 'logo': 'https://imgs.kenlo.io/VWRCUkQ2Tnp3d1BJRDBJVe1szkhnWr9UfpZS9ftWwjXgr7v5Znen3XVcMHllDVRJJeIbi3YwVYEtuxk94P1lyjAQidYVAYSMmXai8NS9w4m9sRjL4rDatavbzJzie9uF-6Q7-Iv9SmaGra5gH8B5FURJd8pcbDP4BcLFZil7jjaTmWDEXeZ2WVcL-VltzA9LgUrpTJ-07kZq5weUDsLnjx6nZ4zEG2FWTbMNAdsz6EIJ9xa9SUxy8h8d4563vSCAaKyyLIOvkiMYDwYu6oa6SeKv15TFJsonDqooL34J41sRFqAe2beFX6J24QkLuOfUB1+EkBnHl+8kYMGwX95NnaAcwV2VHLFJvxa9x9WW1fClaErSOlI+9rjM-PWwOv30TfvsfWujjpxGpM3RdtxaKY-jXzZLV2EycmIR+RH6ufSHsEzuIHbY5F0WWAvfj45k9Ds3YBIV7Zw=.jpg',\n",
       " 'neighborhood': 'Condomínio Residencial Alphaville II',\n",
       " 'neighborhood_display': 'Condomínio Residencial Alphaville II',\n",
       " 'photos': [{'picture_thumb': 'https://imgs.kenlo.io/VWRCUkQ2Tnp3d1BJRDBJVe1szkhnWr9UfpZS9ftWwjXgr7v5Znen3XVcMHllDVRJJeIbi3YwVYEtuxk94P1lyjAQidYVAYSMmXai8NS9w4m9sRjL4rDatavbzJzie9uF-6Q7-Iv9SmaGra5gH8B5FURJd8pcbDP4BcLFZil7jjaTmWDEXeZ2WVcL-VltzA9LgUrpTJ-07kZq5weUDsLnjx6nZ4zEG2FWTbMNAdsz6EIJ9xa9SUxy8h8d4563vSCAaKyyLIOvkiMYDwYu6oa6SeKv15TFJsonDqooL34J41sRFqAe2beFX6J24QkLuOfUB1+EkBnHl+8kYMGwX95NnaAcwV2VHLFJvxa9x9WW1fClaErSOlI+9rjM-PWwOv30TfvsfWujjpxGpM3RdtxaKY-jXzZLV2EycmIR+RH6ufSHsEzuIHbY5F0WWAvfj45k9Ds3YBIV7Zw=.jpg',\n",
       "   'picture_full': 'https://imgs.kenlo.io/VWRCUkQ2Tnp3d1BJRDBJVe1szkhnWr9UfpZS9ftWwjXgr7v5Znen3XVcMHllDVRJJeIbi3YwVYEtuxk94P1lyjAQidYVAYSMmXai8NS9w4m9sRjL4rDatavbzJzie9uF-6Q7-Iv9SmaGra5gH8B5FURJd8pcbDP4BcLFZil7jjaTmWDEXeZ2WVcL-VltzA9LgUrpTJ-07kZq5weUDsLnjx6nZ4zEG2FWTbMNAdsz6EIJ9xa9SUxy8h8d55m-oS7TO7S-K5+hxzlXFx5k9oa+Squ619jCLJU4Vr0lNm4L5VMZWe0S2-TJT-8+5wEDqv3JFhXchgzWgPAoc9j0Qd9ImaIAiFmRTbVN7UuzwIWW1fT5ZkqBZ1o89rufq-a2PfjxHvyjOWGvj5cGs8+IJpNNJIajSDQVXHNgZWBD6QL1tPjG7lLnZXjWtkIKCRPHzs9q+nYoMgob6dER.jpg',\n",
       "   'photo_type': 'LISTING'},\n",
       "  {'picture_thumb': 'https://imgs.kenlo.io/VWRCUkQ2Tnp3d1BJRDBJVe1szkhnWr9UfpZS9ftWwjXgr7v5Znen3XVcMHllDVRJJeIbi3YwVYEtu2Vb7-lJz08boOYyTLCukwCAxayQ6-OVkXyb54jk5YPB2cTtQvXO958U6P+uLFOO6aNjb4wNaURkVrZ0HzHDYIuxDX5MhBqwqR3LcKtpSUxZ7jYsoSVB5Fa0cpb8q1M7iw6AVqnzrBKUEp7vK3NgMLMNAdsz6EIJ9xa9SUxy8h8d4563vSCAaKyyLIOvkiMYDwYu6oa6SeKv15TFJsonDqooL34J41sRFqAe2beFX6J24QkLuOfUB1+EkBnHl+8kYMGwX95NnaAcwV2VHLFJvxa9x9WW1fClaErSOlI+9rjM-PWwOv30TfvsfWujjpxGpM3RdtxaKY-jXzZLV2EycmIR+RH6ufSHsEzuIHbY5F0WWAvfj45k9Ds3YBIV7Zw=.jpg',\n",
       "   'picture_full': 'https://imgs.kenlo.io/VWRCUkQ2Tnp3d1BJRDBJVe1szkhnWr9UfpZS9ftWwjXgr7v5Znen3XVcMHllDVRJJeIbi3YwVYEtu2Vb7-lJz08boOYyTLCukwCAxayQ6-OVkXyb54jk5YPB2cTtQvXO958U6P+uLFOO6aNjb4wNaURkVrZ0HzHDYIuxDX5MhBqwqR3LcKtpSUxZ7jYsoSVB5Fa0cpb8q1M7iw6AVqnzrBKUEp7vK3NgMLMNAdsz6EIJ9xa9SUxy8h8d55m-oS7TO7S-K5+hxzlXFx5k9oa+Squ619jCLJU4Vr0lNm4L5VMZWe0S2-TJT-8+5wEDqv3JFhXchgzWgPAoc9j0Qd9ImaIAiFmRTbVN7UuzwIWW1fT5ZkqBZ1o89rufq-a2PfjxHvyjOWGvj5cGs8+IJpNNJIajSDQVXHNgZWBD6QL1tPjG7lLnZXjWtkIKCRPHzs9q+nYoMgob6dER.jpg',\n",
       "   'photo_type': 'LISTING'},\n",
       "  {'picture_thumb': 'https://imgs.kenlo.io/VWRCUkQ2Tnp3d1BJRDBJVe1szkhnWr9UfpZS9ftWwjXgr7v5Znen3XVcMHllDVRJJeIbi3YwVYEtu2lQyo1quDYijtAIBqS3kzCgh5SJ49e+s0ad+Yvx45nWiZzzds3u5qYt67D0G0SAmv58HOYDI00mQcRoTCvUQtqtGXdKvTndlm7mY+VBWWBP3lsSukxW1AueQ5GA0kEr8ROvBtnjuCrJZv-ZD1lNUNRHR9ox7ltMqBezU0J8p0oF7J6yoS7TO7S-K5+hxzlXFx5k9oa+Squ619jCLJU4Vr0lNm4L5VMZWe0S2-TJT-8+5wEDqv3JFhXchgzWgPAoc9j0Qd9ImaIAiFmRTbVN7UuzwIWW1fT5ZkqBZ1o89rufq-a2PfjxHvyjOWGvj5cGs8+IJpNNJIajSDQVXHNgZWBD6QL1tPjG7lLnZXjWtkIKCRPHzs9q+nYoMgob6dER.jpg',\n",
       "   'picture_full': 'https://imgs.kenlo.io/VWRCUkQ2Tnp3d1BJRDBJVe1szkhnWr9UfpZS9ftWwjXgr7v5Znen3XVcMHllDVRJJeIbi3YwVYEtu2lQyo1quDYijtAIBqS3kzCgh5SJ49e+s0ad+Yvx45nWiZzzds3u5qYt67D0G0SAmv58HOYDI00mQcRoTCvUQtqtGXdKvTndlm7mY+VBWWBP3lsSukxW1AueQ5GA0kEr8ROvBtnjuCrJZv-ZD1lNUNRHR9ox7ltMqBezU0J8p0oF7Jq1qTLdaOenJpi9yWxNWAZ8vJq+TqjzwtiOK59nSeUyO3cb51URUaJf1-aKA+9jrwcLou-TCwSW3hrDkec3f8vtBcFJnKYClBCVSeRJ6RnuzoLG1fT9OkSBNAc09Luc+KG1O--0G6+kdiWlg5YN89iKf8MCM4uqCCMXAnhyN3dBuxLmu-XKrwz5bD3YuBAVFULf1o4r9HhlLVgD59Vcqg==.jpg',\n",
       "   'photo_type': 'LISTING'},\n",
       "  {'picture_thumb': 'https://imgs.kenlo.io/VWRCUkQ2Tnp3d1BJRDBJVe1szkhnWr9UfpZS9ftWwjXgr7v5Znen3XVcMHllDVRJJeIbi3YwVYEtu3BX-e1ztjQVn9Q5BIX7oBa3-IGY3Iurrl2737zk463Qz577f97gwok70uvcEwSUjbFUYPIpahhVWuBxbEXdY7unHilI8z2L-0HfCph0H2NV2TM-jhBnwmqOAcOp9k8A5Dv6Afid9AutT5rELUJnOLMNAdsz6EIJ9xa9SUxy8h8d4563vSCAaKyyLIOvkiMYDwYu6oa6SeKv15TFJsonDqooL34J41sRFqAe2beFX6J24QkLuOfUB1+EkBnHl+8kYMGwX95NnaAcwV2VHLFJvxa9x9WW1fClaErSOlI+9rjM-PWwOv30TfvsfWujjpxGpM3RdtxaKY-jXzZLV2EycmIR+RH6ufSHsEzuIHbY5F0WWAvfj45k9Ds3YBIV7Zw=.jpg',\n",
       "   'picture_full': 'https://imgs.kenlo.io/VWRCUkQ2Tnp3d1BJRDBJVe1szkhnWr9UfpZS9ftWwjXgr7v5Znen3XVcMHllDVRJJeIbi3YwVYEtu3BX-e1ztjQVn9Q5BIX7oBa3-IGY3Iurrl2737zk463Qz577f97gwok70uvcEwSUjbFUYPIpahhVWuBxbEXdY7unHilI8z2L-0HfCph0H2NV2TM-jhBnwmqOAcOp9k8A5Dv6Afid9AutT5rELUJnOLMNAdsz6EIJ9xa9SUxy8h8d55m-oS7TO7S-K5+hxzlXFx5k9oa+Squ619jCLJU4Vr0lNm4L5VMZWe0S2-TJT-8+5wEDqv3JFhXchgzWgPAoc9j0Qd9ImaIAiFmRTbVN7UuzwIWW1fT5ZkqBZ1o89rufq-a2PfjxHvyjOWGvj5cGs8+IJpNNJIajSDQVXHNgZWBD6QL1tPjG7lLnZXjWtkIKCRPHzs9q+nYoMgob6dER.jpg',\n",
       "   'photo_type': 'LISTING'},\n",
       "  {'picture_thumb': 'https://imgs.kenlo.io/VWRCUkQ2Tnp3d1BJRDBJVe1szkhnWr9UfpZS9ftWwjXgr7v5Znen3XVcMHllDVRJJeIbi3YwVYEtu0k40Nxs5Eo-nvAlB4e7rnHcgIHF9oiit3SHocPJjr--0P2jDJnSlro0wYTNC2fwooM9H+YNdlwiTtRKWTnvT7bfZkkUujS142b1S+ZgcXt+wlkysU5Z-mu5erOw7noH2xC5Cd-ogyq+UaPhOmxXDrMNAdsz6EIJ9xa9SUxy8h8d4563vSCAaKyyLIOvkiMYDwYu6oa6SeKv15TFJsonDqooL34J41sRFqAe2beFX6J24QkLuOfUB1+EkBnHl+8kYMGwX95NnaAcwV2VHLFJvxa9x9WW1fClaErSOlI+9rjM-PWwOv30TfvsfWujjpxGpM3RdtxaKY-jXzZLV2EycmIR+RH6ufSHsEzuIHbY5F0WWAvfj45k9Ds3YBIV7Zw=.jpg',\n",
       "   'picture_full': 'https://imgs.kenlo.io/VWRCUkQ2Tnp3d1BJRDBJVe1szkhnWr9UfpZS9ftWwjXgr7v5Znen3XVcMHllDVRJJeIbi3YwVYEtu0k40Nxs5Eo-nvAlB4e7rnHcgIHF9oiit3SHocPJjr--0P2jDJnSlro0wYTNC2fwooM9H+YNdlwiTtRKWTnvT7bfZkkUujS142b1S+ZgcXt+wlkysU5Z-mu5erOw7noH2xC5Cd-ogyq+UaPhOmxXDrMNAdsz6EIJ9xa9SUxy8h8d55m-oS7TO7S-K5+hxzlXFx5k9oa+Squ619jCLJU4Vr0lNm4L5VMZWe0S2-TJT-8+5wEDqv3JFhXchgzWgPAoc9j0Qd9ImaIAiFmRTbVN7UuzwIWW1fT5ZkqBZ1o89rufq-a2PfjxHvyjOWGvj5cGs8+IJpNNJIajSDQVXHNgZWBD6QL1tPjG7lLnZXjWtkIKCRPHzs9q+nYoMgob6dER.jpg',\n",
       "   'photo_type': 'LISTING'},\n",
       "  {'picture_thumb': 'https://imgs.kenlo.io/VWRCUkQ2Tnp3d1BJRDBJVe1szkhnWr9UfpZS9ftWwjXgr7v5Znen3XVcMHllDVRJJeIbi3YwVYEtu2Jd1I9Otzk9rfELUZbmjRe-+4GW-IqEk3yp-Y3Tj+7q7uLWdZf8wbA++oreEVfzlK5gFtd+KXJfTrFxYgDHZ9aKEiV6pAa1-HXzaeF8XG9W3RgzshsJgX2ZY5vyzQAf-jGhDvn7sz+xaLH2UW1TQPlLANk18QdW9hinR0InpwcS45urs3PTcKG1MI36iGwAF0wy6oK5APevm5PPedV-GacxP3wP61NeW6wcmvuVAupw6QEZovrFTQeShQjQiOM3eYWuXttJn7xVxVnEGLUb4hi6l9WW0ayraBmPMlA+9eub--O3P-inSrSod2eihdxRppSBOctXIM-0XWhARTMlcDAB6h73tbXZrkWrLniK+0FHQBOezoBquSRleBwRoA==.jpg',\n",
       "   'picture_full': 'https://imgs.kenlo.io/VWRCUkQ2Tnp3d1BJRDBJVe1szkhnWr9UfpZS9ftWwjXgr7v5Znen3XVcMHllDVRJJeIbi3YwVYEtu2Jd1I9Otzk9rfELUZbmjRe-+4GW-IqEk3yp-Y3Tj+7q7uLWdZf8wbA++oreEVfzlK5gFtd+KXJfTrFxYgDHZ9aKEiV6pAa1-HXzaeF8XG9W3RgzshsJgX2ZY5vyzQAf-jGhDvn7sz+xaLH2UW1TQPlLANk18QdW9hinR0InpwcW5JO3vSCAaKyyLIOvkiMYDwYu6oa6SeKv15TFJsonDqooL34J41sRFqAe2beFX6J24QkLuOfUB1+EkBnHl+8kYMGwX95NnaAcwV2VHLFJvxa9x9WW1fClaErSOlI+9rjM-PWwOv30TfvsfWujjpxGpM3RdtxaKY-jXzZLV2EycmIR+RH6ufSHsEzuIHbY5F0WWAvfj45k9Ds3YBIV7Zw=.jpg',\n",
       "   'photo_type': 'LISTING'},\n",
       "  {'picture_thumb': 'https://imgs.kenlo.io/VWRCUkQ2Tnp3d1BJRDBJVe1szkhnWr9UfpZS9ftWwjXgr7v5Znen3XVcMHllDVRJJeIbi3YwVYEtu3VDztNS4DIinsccUbzm5Qus1JmdxevH802zvc3LgY2D98Kjd8j04Yk+jfLdN2617Y5STfwCHU99Oup4WQDBQIyjGiFurQbJn0ntFIdHZTRo2x9tlzJy23XgeoOC-F8V+HvgLPT7rTOGHJf2WUVxROZHR9ox7ltMqBezU0J8p0oF7J6yoS7TO7S-K5+hxzlXFx5k9oa+Squ619jCLJU4Vr0lNm4L5VMZWe0S2-TJT-8+5wEDqv3JFhXchgzWgPAoc9j0Qd9ImaIAiFmRTbVN7UuzwIWW1fT5ZkqBZ1o89rufq-a2PfjxHvyjOWGvj5cGs8+IJpNNJIajSDQVXHNgZWBD6QL1tPjG7lLnZXjWtkIKCRPHzs9q+nYoMgob6dER.jpg',\n",
       "   'picture_full': 'https://imgs.kenlo.io/VWRCUkQ2Tnp3d1BJRDBJVe1szkhnWr9UfpZS9ftWwjXgr7v5Znen3XVcMHllDVRJJeIbi3YwVYEtu3VDztNS4DIinsccUbzm5Qus1JmdxevH802zvc3LgY2D98Kjd8j04Yk+jfLdN2617Y5STfwCHU99Oup4WQDBQIyjGiFurQbJn0ntFIdHZTRo2x9tlzJy23XgeoOC-F8V+HvgLPT7rTOGHJf2WUVxROZHR9ox7ltMqBezU0J8p0oF7Jq1qTLdaOenJpi9yWxNWAZ8vJq+TqjzwtiOK59nSeUyO3cb51URUaJf1-aKA+9jrwcLou-TCwSW3hrDkec3f8vtBcFJnKYClBCVSeRJ6RnuzoLG1fT9OkSBNAc09Luc+KG1O--0G6+kdiWlg5YN89iKf8MCM4uqCCMXAnhyN3dBuxLmu-XKrwz5bD3YuBAVFULf1o4r9HhlLVgD59Vcqg==.jpg',\n",
       "   'photo_type': 'LISTING'},\n",
       "  {'picture_thumb': 'https://imgs.kenlo.io/VWRCUkQ2Tnp3d1BJRDBJVe1szkhnWr9UfpZS9ftWwjXgr7v5Znen3XVcMHllDVRJJeIbi3YwVYEtu1oi6MxK+B0To-MJUJqU+RSw3ousuJLFi3zH18rz+rnf1pvTR+fFzKUR77fSNUWuo-Z5dP07Em5jdtlnVy6wedyjFmQUgx+P-WDVFqVpHHRVjxo-gklR3GKwYZSd2Hc2hQfgMfOIhzSXcPjEEwVzTbMNAdsz6EIJ9xa9SUxy8h8d4563vSCAaKyyLIOvkiMYDwYu6oa6SeKv15TFJsonDqooL34J41sRFqAe2beFX6J24QkLuOfUB1+EkBnHl+8kYMGwX95NnaAcwV2VHLFJvxa9x9WW1fClaErSOlI+9rjM-PWwOv30TfvsfWujjpxGpM3RdtxaKY-jXzZLV2EycmIR+RH6ufSHsEzuIHbY5F0WWAvfj45k9Ds3YBIV7Zw=.jpg',\n",
       "   'picture_full': 'https://imgs.kenlo.io/VWRCUkQ2Tnp3d1BJRDBJVe1szkhnWr9UfpZS9ftWwjXgr7v5Znen3XVcMHllDVRJJeIbi3YwVYEtu1oi6MxK+B0To-MJUJqU+RSw3ousuJLFi3zH18rz+rnf1pvTR+fFzKUR77fSNUWuo-Z5dP07Em5jdtlnVy6wedyjFmQUgx+P-WDVFqVpHHRVjxo-gklR3GKwYZSd2Hc2hQfgMfOIhzSXcPjEEwVzTbMNAdsz6EIJ9xa9SUxy8h8d55m-oS7TO7S-K5+hxzlXFx5k9oa+Squ619jCLJU4Vr0lNm4L5VMZWe0S2-TJT-8+5wEDqv3JFhXchgzWgPAoc9j0Qd9ImaIAiFmRTbVN7UuzwIWW1fT5ZkqBZ1o89rufq-a2PfjxHvyjOWGvj5cGs8+IJpNNJIajSDQVXHNgZWBD6QL1tPjG7lLnZXjWtkIKCRPHzs9q+nYoMgob6dER.jpg',\n",
       "   'photo_type': 'LISTING'},\n",
       "  {'picture_thumb': 'https://imgs.kenlo.io/VWRCUkQ2Tnp3d1BJRDBJVe1szkhnWr9UfpZS9ftWwjXgr7v5Znen3XVcMHllDVRJJeIbi3YwVYEtu0Zt0OhD6DAkltoXf6eR5Ci98dmz-ey1-WW-8qjPk6LD3J-zduzb49gk8ozPElzwnKxde-gtLUdDaOZkfzfRbZ6AJWNQhgSuj1v0QLx3WGZZ2A80rjROzQSffsf96Vsz0ir-Itbv8BGQSKbfEGFFMLMNAdsz6EIJ9xa9SUxy8h8d4563vSCAaKyyLIOvkiMYDwYu6oa6SeKv15TFJsonDqooL34J41sRFqAe2beFX6J24QkLuOfUB1+EkBnHl+8kYMGwX95NnaAcwV2VHLFJvxa9x9WW1fClaErSOlI+9rjM-PWwOv30TfvsfWujjpxGpM3RdtxaKY-jXzZLV2EycmIR+RH6ufSHsEzuIHbY5F0WWAvfj45k9Ds3YBIV7Zw=.jpg',\n",
       "   'picture_full': 'https://imgs.kenlo.io/VWRCUkQ2Tnp3d1BJRDBJVe1szkhnWr9UfpZS9ftWwjXgr7v5Znen3XVcMHllDVRJJeIbi3YwVYEtu0Zt0OhD6DAkltoXf6eR5Ci98dmz-ey1-WW-8qjPk6LD3J-zduzb49gk8ozPElzwnKxde-gtLUdDaOZkfzfRbZ6AJWNQhgSuj1v0QLx3WGZZ2A80rjROzQSffsf96Vsz0ir-Itbv8BGQSKbfEGFFMLMNAdsz6EIJ9xa9SUxy8h8d55m-oS7TO7S-K5+hxzlXFx5k9oa+Squ619jCLJU4Vr0lNm4L5VMZWe0S2-TJT-8+5wEDqv3JFhXchgzWgPAoc9j0Qd9ImaIAiFmRTbVN7UuzwIWW1fT5ZkqBZ1o89rufq-a2PfjxHvyjOWGvj5cGs8+IJpNNJIajSDQVXHNgZWBD6QL1tPjG7lLnZXjWtkIKCRPHzs9q+nYoMgob6dER.jpg',\n",
       "   'photo_type': 'LISTING'},\n",
       "  {'picture_thumb': 'https://imgs.kenlo.io/VWRCUkQ2Tnp3d1BJRDBJVe1szkhnWr9UfpZS9ftWwjXgr7v5Znen3XVcMHllDVRJJeIbi3YwVYEtu2Zs0e1CxC8Zz9oBX7+irCnZ44vM3smgs069oKGJvO7b9enPDcDc99o97LP4N0eUtLJ8RNsAP0klNtRhSS7mcdvZCygIhh2+mBqRdqdIdEZngQUIkDNfmGuHRoeh118M9wqhUdeJ9QeFbKz3EAF2DrMNAdsz6EIJ9xa9SUxy8h8d4563vSCAaKyyLIOvkiMYDwYu6oa6SeKv15TFJsonDqooL34J41sRFqAe2beFX6J24QkLuOfUB1+EkBnHl+8kYMGwX95NnaAcwV2VHLFJvxa9x9WW1fClaErSOlI+9rjM-PWwOv30TfvsfWujjpxGpM3RdtxaKY-jXzZLV2EycmIR+RH6ufSHsEzuIHbY5F0WWAvfj45k9Ds3YBIV7Zw=.jpg',\n",
       "   'picture_full': 'https://imgs.kenlo.io/VWRCUkQ2Tnp3d1BJRDBJVe1szkhnWr9UfpZS9ftWwjXgr7v5Znen3XVcMHllDVRJJeIbi3YwVYEtu2Zs0e1CxC8Zz9oBX7+irCnZ44vM3smgs069oKGJvO7b9enPDcDc99o97LP4N0eUtLJ8RNsAP0klNtRhSS7mcdvZCygIhh2+mBqRdqdIdEZngQUIkDNfmGuHRoeh118M9wqhUdeJ9QeFbKz3EAF2DrMNAdsz6EIJ9xa9SUxy8h8d55m-oS7TO7S-K5+hxzlXFx5k9oa+Squ619jCLJU4Vr0lNm4L5VMZWe0S2-TJT-8+5wEDqv3JFhXchgzWgPAoc9j0Qd9ImaIAiFmRTbVN7UuzwIWW1fT5ZkqBZ1o89rufq-a2PfjxHvyjOWGvj5cGs8+IJpNNJIajSDQVXHNgZWBD6QL1tPjG7lLnZXjWtkIKCRPHzs9q+nYoMgob6dER.jpg',\n",
       "   'photo_type': 'LISTING'},\n",
       "  {'picture_thumb': 'https://imgs.kenlo.io/VWRCUkQ2Tnp3d1BJRDBJVe1szkhnWr9UfpZS9ftWwjXgr7v5Znen3XVcMHllDVRJJeIbi3YwVYEtu18-4eJ8yxcZytICQ+CHniyHz56R7OihvVy8-5L0vbDUx5L-fcGEwqUtj-LWTG+pnp5rF+4ONW5nRusiXgPwedqCPyRWmyKhql79QaJcR1Bwzj0w1UtuzVq+TKr3+0Vp6xOaJvDhpS2RFJjMCExXOLMNAdsz6EIJ9xa9SUxy8h8d4563vSCAaKyyLIOvkiMYDwYu6oa6SeKv15TFJsonDqooL34J41sRFqAe2beFX6J24QkLuOfUB1+EkBnHl+8kYMGwX95NnaAcwV2VHLFJvxa9x9WW1fClaErSOlI+9rjM-PWwOv30TfvsfWujjpxGpM3RdtxaKY-jXzZLV2EycmIR+RH6ufSHsEzuIHbY5F0WWAvfj45k9Ds3YBIV7Zw=.jpg',\n",
       "   'picture_full': 'https://imgs.kenlo.io/VWRCUkQ2Tnp3d1BJRDBJVe1szkhnWr9UfpZS9ftWwjXgr7v5Znen3XVcMHllDVRJJeIbi3YwVYEtu18-4eJ8yxcZytICQ+CHniyHz56R7OihvVy8-5L0vbDUx5L-fcGEwqUtj-LWTG+pnp5rF+4ONW5nRusiXgPwedqCPyRWmyKhql79QaJcR1Bwzj0w1UtuzVq+TKr3+0Vp6xOaJvDhpS2RFJjMCExXOLMNAdsz6EIJ9xa9SUxy8h8d55m-oS7TO7S-K5+hxzlXFx5k9oa+Squ619jCLJU4Vr0lNm4L5VMZWe0S2-TJT-8+5wEDqv3JFhXchgzWgPAoc9j0Qd9ImaIAiFmRTbVN7UuzwIWW1fT5ZkqBZ1o89rufq-a2PfjxHvyjOWGvj5cGs8+IJpNNJIajSDQVXHNgZWBD6QL1tPjG7lLnZXjWtkIKCRPHzs9q+nYoMgob6dER.jpg',\n",
       "   'photo_type': 'LISTING'},\n",
       "  {'picture_thumb': 'https://imgs.kenlo.io/VWRCUkQ2Tnp3d1BJRDBJVe1szkhnWr9UfpZS9ftWwjXgr7v5Znen3XVcMHllDVRJJeIbi3YwVYEtu0h4jcNyyiYcgso9bL+zhRamgZypzImb8HjL8rDz766L19vcUMX01Ksj1r-NSX2Jt6VpVMQ-OFBOVtJ6AD7YfbaZNnIKmDWjpn7kdpZvYjN41SsXrzd+mX3ifrH0xlw0gCT9DsHSnQShbbzJA1pbC+VHR9ox7ltMqBezU0J8p0oF7J6yoS7TO7S-K5+hxzlXFx5k9oa+Squ619jCLJU4Vr0lNm4L5VMZWe0S2-TJT-8+5wEDqv3JFhXchgzWgPAoc9j0Qd9ImaIAiFmRTbVN7UuzwIWW1fT5ZkqBZ1o89rufq-a2PfjxHvyjOWGvj5cGs8+IJpNNJIajSDQVXHNgZWBD6QL1tPjG7lLnZXjWtkIKCRPHzs9q+nYoMgob6dER.jpg',\n",
       "   'picture_full': 'https://imgs.kenlo.io/VWRCUkQ2Tnp3d1BJRDBJVe1szkhnWr9UfpZS9ftWwjXgr7v5Znen3XVcMHllDVRJJeIbi3YwVYEtu0h4jcNyyiYcgso9bL+zhRamgZypzImb8HjL8rDz766L19vcUMX01Ksj1r-NSX2Jt6VpVMQ-OFBOVtJ6AD7YfbaZNnIKmDWjpn7kdpZvYjN41SsXrzd+mX3ifrH0xlw0gCT9DsHSnQShbbzJA1pbC+VHR9ox7ltMqBezU0J8p0oF7Jq1qTLdaOenJpi9yWxNWAZ8vJq+TqjzwtiOK59nSeUyO3cb51URUaJf1-aKA+9jrwcLou-TCwSW3hrDkec3f8vtBcFJnKYClBCVSeRJ6RnuzoLG1fT9OkSBNAc09Luc+KG1O--0G6+kdiWlg5YN89iKf8MCM4uqCCMXAnhyN3dBuxLmu-XKrwz5bD3YuBAVFULf1o4r9HhlLVgD59Vcqg==.jpg',\n",
       "   'photo_type': 'LISTING'},\n",
       "  {'picture_thumb': 'https://imgs.kenlo.io/VWRCUkQ2Tnp3d1BJRDBJVe1szkhnWr9UfpZS9ftWwjXgr7v5Znen3XVcMHllDVRJJeIbi3YwVYEtu3l29MI-3CUwiY9GYoOYoheo4IvM6s2n8hu51JHcm7La0J7uBtvy5Y4Tiou2T3uGtZRoVOUQE0VTf-dHWjHpfK6LZiB8rRuXr2H9F4N9EnJe4A0rlQ8I4QO7dKWKsgQgwDi3Mv7IizSUVIyjBQROHrMNAdsz6EIJ9xa9SUxy8h8d4563vSCAaKyyLIOvkiMYDwYu6oa6SeKv15TFJsonDqooL34J41sRFqAe2beFX6J24QkLuOfUB1+EkBnHl+8kYMGwX95NnaAcwV2VHLFJvxa9x9WW1fClaErSOlI+9rjM-PWwOv30TfvsfWujjpxGpM3RdtxaKY-jXzZLV2EycmIR+RH6ufSHsEzuIHbY5F0WWAvfj45k9Ds3YBIV7Zw=.jpg',\n",
       "   'picture_full': 'https://imgs.kenlo.io/VWRCUkQ2Tnp3d1BJRDBJVe1szkhnWr9UfpZS9ftWwjXgr7v5Znen3XVcMHllDVRJJeIbi3YwVYEtu3l29MI-3CUwiY9GYoOYoheo4IvM6s2n8hu51JHcm7La0J7uBtvy5Y4Tiou2T3uGtZRoVOUQE0VTf-dHWjHpfK6LZiB8rRuXr2H9F4N9EnJe4A0rlQ8I4QO7dKWKsgQgwDi3Mv7IizSUVIyjBQROHrMNAdsz6EIJ9xa9SUxy8h8d55m-oS7TO7S-K5+hxzlXFx5k9oa+Squ619jCLJU4Vr0lNm4L5VMZWe0S2-TJT-8+5wEDqv3JFhXchgzWgPAoc9j0Qd9ImaIAiFmRTbVN7UuzwIWW1fT5ZkqBZ1o89rufq-a2PfjxHvyjOWGvj5cGs8+IJpNNJIajSDQVXHNgZWBD6QL1tPjG7lLnZXjWtkIKCRPHzs9q+nYoMgob6dER.jpg',\n",
       "   'photo_type': 'LISTING'},\n",
       "  {'picture_thumb': 'https://imgs.kenlo.io/VWRCUkQ2Tnp3d1BJRDBJVe1szkhnWr9UfpZS9ftWwjXgr7v5Znen3XVcMHllDVRJJeIbi3YwVYEtu2N76ftntjsuw801cu61rDm20p+xyI62t0K5-JyOm7KehNL7cNuO1NkEjpDyIgGuq4BlevAJDxl4Pcx2bkPXdoaLJXd+oSmjimPCTuBKeW1U1FA5rkoOmXC5Q4CD+mkHghj4IM76lAmJQIviMQdQNuFHR9ox7ltMqBezU0J8p0oF7J6yoS7TO7S-K5+hxzlXFx5k9oa+Squ619jCLJU4Vr0lNm4L5VMZWe0S2-TJT-8+5wEDqv3JFhXchgzWgPAoc9j0Qd9ImaIAiFmRTbVN7UuzwIWW1fT5ZkqBZ1o89rufq-a2PfjxHvyjOWGvj5cGs8+IJpNNJIajSDQVXHNgZWBD6QL1tPjG7lLnZXjWtkIKCRPHzs9q+nYoMgob6dER.jpg',\n",
       "   'picture_full': 'https://imgs.kenlo.io/VWRCUkQ2Tnp3d1BJRDBJVe1szkhnWr9UfpZS9ftWwjXgr7v5Znen3XVcMHllDVRJJeIbi3YwVYEtu2N76ftntjsuw801cu61rDm20p+xyI62t0K5-JyOm7KehNL7cNuO1NkEjpDyIgGuq4BlevAJDxl4Pcx2bkPXdoaLJXd+oSmjimPCTuBKeW1U1FA5rkoOmXC5Q4CD+mkHghj4IM76lAmJQIviMQdQNuFHR9ox7ltMqBezU0J8p0oF7Jq1qTLdaOenJpi9yWxNWAZ8vJq+TqjzwtiOK59nSeUyO3cb51URUaJf1-aKA+9jrwcLou-TCwSW3hrDkec3f8vtBcFJnKYClBCVSeRJ6RnuzoLG1fT9OkSBNAc09Luc+KG1O--0G6+kdiWlg5YN89iKf8MCM4uqCCMXAnhyN3dBuxLmu-XKrwz5bD3YuBAVFULf1o4r9HhlLVgD59Vcqg==.jpg',\n",
       "   'photo_type': 'LISTING'},\n",
       "  {'picture_thumb': 'https://imgs.kenlo.io/VWRCUkQ2Tnp3d1BJRDBJVe1szkhnWr9UfpZS9ftWwjXgr7v5Znen3XVcMHllDVRJJeIbi3YwVYEtux9A54Nz31IgoMZEboO7v3fe-aSU292zj2K4pL7orrbqjOf7APrs8rsb0LzrNGeTibFbX9ogHUVhWcBzf0DaTYmOLENO+AiO-2vRFZdqRXhF1goDgBZU80CDQt2S8Vps8ga5Nf3qrg2XcoX3PXtfJLMNAdsz6EIJ9xa9SUxy8h8d4563vSCAaKyyLIOvkiMYDwYu6oa6SeKv15TFJsonDqooL34J41sRFqAe2beFX6J24QkLuOfUB1+EkBnHl+8kYMGwX95NnaAcwV2VHLFJvxa9x9WW1fClaErSOlI+9rjM-PWwOv30TfvsfWujjpxGpM3RdtxaKY-jXzZLV2EycmIR+RH6ufSHsEzuIHbY5F0WWAvfj45k9Ds3YBIV7Zw=.jpg',\n",
       "   'picture_full': 'https://imgs.kenlo.io/VWRCUkQ2Tnp3d1BJRDBJVe1szkhnWr9UfpZS9ftWwjXgr7v5Znen3XVcMHllDVRJJeIbi3YwVYEtux9A54Nz31IgoMZEboO7v3fe-aSU292zj2K4pL7orrbqjOf7APrs8rsb0LzrNGeTibFbX9ogHUVhWcBzf0DaTYmOLENO+AiO-2vRFZdqRXhF1goDgBZU80CDQt2S8Vps8ga5Nf3qrg2XcoX3PXtfJLMNAdsz6EIJ9xa9SUxy8h8d55m-oS7TO7S-K5+hxzlXFx5k9oa+Squ619jCLJU4Vr0lNm4L5VMZWe0S2-TJT-8+5wEDqv3JFhXchgzWgPAoc9j0Qd9ImaIAiFmRTbVN7UuzwIWW1fT5ZkqBZ1o89rufq-a2PfjxHvyjOWGvj5cGs8+IJpNNJIajSDQVXHNgZWBD6QL1tPjG7lLnZXjWtkIKCRPHzs9q+nYoMgob6dER.jpg',\n",
       "   'photo_type': 'LISTING'},\n",
       "  {'picture_thumb': 'https://imgs.kenlo.io/VWRCUkQ2Tnp3d1BJRDBJVe1szkhnWr9UfpZS9ftWwjXgr7v5Znen3XVcMHllDVRJJeIbi3YwVYEtuxo2-Y5iyxAcuOcZVaOTjiWq3Niqxv6ztU6t57DEsa7V+MXee9rakIx6+JeoGwaCnp5kHPgoD31iYOhwVUe7GpfYESJLhwTJhXLIfqB8e0xi9Bgotkx8wHu6dq+splERhn2EK-2JigmtZZvKIl9lQPlLANk18QdW9hinR0InpwcS45urs3PTcKG1MI36iGwAF0wy6oK5APevm5PPedV-GacxP3wP61NeW6wcmvuVAupw6QEZovrFTQeShQjQiOM3eYWuXttJn7xVxVnEGLUb4hi6l9WW0ayraBmPMlA+9eub--O3P-inSrSod2eihdxRppSBOctXIM-0XWhARTMlcDAB6h73tbXZrkWrLniK+0FHQBOezoBquSRleBwRoA==.jpg',\n",
       "   'picture_full': 'https://imgs.kenlo.io/VWRCUkQ2Tnp3d1BJRDBJVe1szkhnWr9UfpZS9ftWwjXgr7v5Znen3XVcMHllDVRJJeIbi3YwVYEtuxo2-Y5iyxAcuOcZVaOTjiWq3Niqxv6ztU6t57DEsa7V+MXee9rakIx6+JeoGwaCnp5kHPgoD31iYOhwVUe7GpfYESJLhwTJhXLIfqB8e0xi9Bgotkx8wHu6dq+splERhn2EK-2JigmtZZvKIl9lQPlLANk18QdW9hinR0InpwcW5JO3vSCAaKyyLIOvkiMYDwYu6oa6SeKv15TFJsonDqooL34J41sRFqAe2beFX6J24QkLuOfUB1+EkBnHl+8kYMGwX95NnaAcwV2VHLFJvxa9x9WW1fClaErSOlI+9rjM-PWwOv30TfvsfWujjpxGpM3RdtxaKY-jXzZLV2EycmIR+RH6ufSHsEzuIHbY5F0WWAvfj45k9Ds3YBIV7Zw=.jpg',\n",
       "   'photo_type': 'LISTING'},\n",
       "  {'picture_thumb': 'https://imgs.kenlo.io/VWRCUkQ2Tnp3d1BJRDBJVe1szkhnWr9UfpZS9ftWwjXgr7v5Znen3XVcMHllDVRJJeIbi3YwVYEtu3xGwuUxuS8btY8dX6-ghBOWxriN4PKpsn2w9a7ngOn82p30A+j00N0W94PjLlyBqZlSXMMlIkB4VbNRZSPubpWMFnlP-AGLrECSdJxJBlsQ7gU1kkxn7XeJRofx2mFpyXmjEvDZmwOXZZDrPkJrCrMNAdsz6EIJ9xa9SUxy8h8d4563vSCAaKyyLIOvkiMYDwYu6oa6SeKv15TFJsonDqooL34J41sRFqAe2beFX6J24QkLuOfUB1+EkBnHl+8kYMGwX95NnaAcwV2VHLFJvxa9x9WW1fClaErSOlI+9rjM-PWwOv30TfvsfWujjpxGpM3RdtxaKY-jXzZLV2EycmIR+RH6ufSHsEzuIHbY5F0WWAvfj45k9Ds3YBIV7Zw=.jpg',\n",
       "   'picture_full': 'https://imgs.kenlo.io/VWRCUkQ2Tnp3d1BJRDBJVe1szkhnWr9UfpZS9ftWwjXgr7v5Znen3XVcMHllDVRJJeIbi3YwVYEtu3xGwuUxuS8btY8dX6-ghBOWxriN4PKpsn2w9a7ngOn82p30A+j00N0W94PjLlyBqZlSXMMlIkB4VbNRZSPubpWMFnlP-AGLrECSdJxJBlsQ7gU1kkxn7XeJRofx2mFpyXmjEvDZmwOXZZDrPkJrCrMNAdsz6EIJ9xa9SUxy8h8d55m-oS7TO7S-K5+hxzlXFx5k9oa+Squ619jCLJU4Vr0lNm4L5VMZWe0S2-TJT-8+5wEDqv3JFhXchgzWgPAoc9j0Qd9ImaIAiFmRTbVN7UuzwIWW1fT5ZkqBZ1o89rufq-a2PfjxHvyjOWGvj5cGs8+IJpNNJIajSDQVXHNgZWBD6QL1tPjG7lLnZXjWtkIKCRPHzs9q+nYoMgob6dER.jpg',\n",
       "   'photo_type': 'LISTING'},\n",
       "  {'picture_thumb': 'https://imgs.kenlo.io/VWRCUkQ2Tnp3d1BJRDBJVe1szkhnWr9UfpZS9ftWwjXgr7v5Znen3XVcMHllDVRJJeIbi3YwVYEtu1dij9xnwx4Bl5IFXZu8hCOB177E4OmXgm3NxZiPrZ+G4tLdW8rO6L0D3JfdNUPpiqlYXIB+b0JFXtZ3aBD6Up3fJCdvpB6MlBvNcf58eGVbhgUZgQxq4WaCf4WUzWA523mBBMPh8DSqcqX3Bld7TbMNAdsz6EIJ9xa9SUxy8h8d4563vSCAaKyyLIOvkiMYDwYu6oa6SeKv15TFJsonDqooL34J41sRFqAe2beFX6J24QkLuOfUB1+EkBnHl+8kYMGwX95NnaAcwV2VHLFJvxa9x9WW1fClaErSOlI+9rjM-PWwOv30TfvsfWujjpxGpM3RdtxaKY-jXzZLV2EycmIR+RH6ufSHsEzuIHbY5F0WWAvfj45k9Ds3YBIV7Zw=.jpg',\n",
       "   'picture_full': 'https://imgs.kenlo.io/VWRCUkQ2Tnp3d1BJRDBJVe1szkhnWr9UfpZS9ftWwjXgr7v5Znen3XVcMHllDVRJJeIbi3YwVYEtu1dij9xnwx4Bl5IFXZu8hCOB177E4OmXgm3NxZiPrZ+G4tLdW8rO6L0D3JfdNUPpiqlYXIB+b0JFXtZ3aBD6Up3fJCdvpB6MlBvNcf58eGVbhgUZgQxq4WaCf4WUzWA523mBBMPh8DSqcqX3Bld7TbMNAdsz6EIJ9xa9SUxy8h8d55m-oS7TO7S-K5+hxzlXFx5k9oa+Squ619jCLJU4Vr0lNm4L5VMZWe0S2-TJT-8+5wEDqv3JFhXchgzWgPAoc9j0Qd9ImaIAiFmRTbVN7UuzwIWW1fT5ZkqBZ1o89rufq-a2PfjxHvyjOWGvj5cGs8+IJpNNJIajSDQVXHNgZWBD6QL1tPjG7lLnZXjWtkIKCRPHzs9q+nYoMgob6dER.jpg',\n",
       "   'photo_type': 'LISTING'},\n",
       "  {'picture_thumb': 'https://imgs.kenlo.io/VWRCUkQ2Tnp3d1BJRDBJVe1szkhnWr9UfpZS9ftWwjXgr7v5Znen3XVcMHllDVRJJeIbi3YwVYEtu3VfwNBRzUw+tdYHXqWbgxaE0b6G+vCCnEib09bRvLbEy-z+c+rj74dkjZ7SGFSR7rxmWIUkKHAiUNN4ZRrTX9iKPCJohj6z+UvAVaEXeDdYmhMxvDpLxn2LY8D1p1dqijmnJ6uHpQSiUJzJGkBWTbMNAdsz6EIJ9xa9SUxy8h8d4563vSCAaKyyLIOvkiMYDwYu6oa6SeKv15TFJsonDqooL34J41sRFqAe2beFX6J24QkLuOfUB1+EkBnHl+8kYMGwX95NnaAcwV2VHLFJvxa9x9WW1fClaErSOlI+9rjM-PWwOv30TfvsfWujjpxGpM3RdtxaKY-jXzZLV2EycmIR+RH6ufSHsEzuIHbY5F0WWAvfj45k9Ds3YBIV7Zw=.jpg',\n",
       "   'picture_full': 'https://imgs.kenlo.io/VWRCUkQ2Tnp3d1BJRDBJVe1szkhnWr9UfpZS9ftWwjXgr7v5Znen3XVcMHllDVRJJeIbi3YwVYEtu3VfwNBRzUw+tdYHXqWbgxaE0b6G+vCCnEib09bRvLbEy-z+c+rj74dkjZ7SGFSR7rxmWIUkKHAiUNN4ZRrTX9iKPCJohj6z+UvAVaEXeDdYmhMxvDpLxn2LY8D1p1dqijmnJ6uHpQSiUJzJGkBWTbMNAdsz6EIJ9xa9SUxy8h8d55m-oS7TO7S-K5+hxzlXFx5k9oa+Squ619jCLJU4Vr0lNm4L5VMZWe0S2-TJT-8+5wEDqv3JFhXchgzWgPAoc9j0Qd9ImaIAiFmRTbVN7UuzwIWW1fT5ZkqBZ1o89rufq-a2PfjxHvyjOWGvj5cGs8+IJpNNJIajSDQVXHNgZWBD6QL1tPjG7lLnZXjWtkIKCRPHzs9q+nYoMgob6dER.jpg',\n",
       "   'photo_type': 'LISTING'},\n",
       "  {'picture_thumb': 'https://imgs.kenlo.io/VWRCUkQ2Tnp3d1BJRDBJVe1szkhnWr9UfpZS9ftWwjXgr7v5Znen3XVcMHllDVRJJeIbi3YwVYEtuxZC8MJHvQ4Xg48DbJOF4DC64trO3oeHoVmVpo7ZsrCGi+7kQfjUkIAmjYT9A3CXjrBGG8AeMWdIXtFZQSfYQda7ZXJXvRy8lEzjSeVbRkcK0DgFkil-ngeme6L800Ix53+lBu7JmnGnd7nEIXt5TONHR9ox7ltMqBezU0J8p0oF7J6yoS7TO7S-K5+hxzlXFx5k9oa+Squ619jCLJU4Vr0lNm4L5VMZWe0S2-TJT-8+5wEDqv3JFhXchgzWgPAoc9j0Qd9ImaIAiFmRTbVN7UuzwIWW1fT5ZkqBZ1o89rufq-a2PfjxHvyjOWGvj5cGs8+IJpNNJIajSDQVXHNgZWBD6QL1tPjG7lLnZXjWtkIKCRPHzs9q+nYoMgob6dER.jpg',\n",
       "   'picture_full': 'https://imgs.kenlo.io/VWRCUkQ2Tnp3d1BJRDBJVe1szkhnWr9UfpZS9ftWwjXgr7v5Znen3XVcMHllDVRJJeIbi3YwVYEtuxZC8MJHvQ4Xg48DbJOF4DC64trO3oeHoVmVpo7ZsrCGi+7kQfjUkIAmjYT9A3CXjrBGG8AeMWdIXtFZQSfYQda7ZXJXvRy8lEzjSeVbRkcK0DgFkil-ngeme6L800Ix53+lBu7JmnGnd7nEIXt5TONHR9ox7ltMqBezU0J8p0oF7Jq1qTLdaOenJpi9yWxNWAZ8vJq+TqjzwtiOK59nSeUyO3cb51URUaJf1-aKA+9jrwcLou-TCwSW3hrDkec3f8vtBcFJnKYClBCVSeRJ6RnuzoLG1fT9OkSBNAc09Luc+KG1O--0G6+kdiWlg5YN89iKf8MCM4uqCCMXAnhyN3dBuxLmu-XKrwz5bD3YuBAVFULf1o4r9HhlLVgD59Vcqg==.jpg',\n",
       "   'photo_type': 'LISTING'},\n",
       "  {'picture_thumb': 'https://imgs.kenlo.io/VWRCUkQ2Tnp3d1BJRDBJVe1szkhnWr9UfpZS9ftWwjXgr7v5Znen3XVcMHllDVRJJeIbi3YwVYEtuxc41f9Tzzgnm+02AJDngDCe85mt1fOTs2ukvb3Lmo72--jAePvO04Af-JTaMlmOkvVEQ+B5LHp7XfEqbxLKY7aMOXdvhjvUuW6XFOseezNY5h4cihVVgWeFZZum7HF1iiz7Guvei2uHapDcPVJTQPlLANk18QdW9hinR0InpwcS45urs3PTcKG1MI36iGwAF0wy6oK5APevm5PPedV-GacxP3wP61NeW6wcmvuVAupw6QEZovrFTQeShQjQiOM3eYWuXttJn7xVxVnEGLUb4hi6l9WW0ayraBmPMlA+9eub--O3P-inSrSod2eihdxRppSBOctXIM-0XWhARTMlcDAB6h73tbXZrkWrLniK+0FHQBOezoBquSRleBwRoA==.jpg',\n",
       "   'picture_full': 'https://imgs.kenlo.io/VWRCUkQ2Tnp3d1BJRDBJVe1szkhnWr9UfpZS9ftWwjXgr7v5Znen3XVcMHllDVRJJeIbi3YwVYEtuxc41f9Tzzgnm+02AJDngDCe85mt1fOTs2ukvb3Lmo72--jAePvO04Af-JTaMlmOkvVEQ+B5LHp7XfEqbxLKY7aMOXdvhjvUuW6XFOseezNY5h4cihVVgWeFZZum7HF1iiz7Guvei2uHapDcPVJTQPlLANk18QdW9hinR0InpwcW5JO3vSCAaKyyLIOvkiMYDwYu6oa6SeKv15TFJsonDqooL34J41sRFqAe2beFX6J24QkLuOfUB1+EkBnHl+8kYMGwX95NnaAcwV2VHLFJvxa9x9WW1fClaErSOlI+9rjM-PWwOv30TfvsfWujjpxGpM3RdtxaKY-jXzZLV2EycmIR+RH6ufSHsEzuIHbY5F0WWAvfj45k9Ds3YBIV7Zw=.jpg',\n",
       "   'photo_type': 'LISTING'},\n",
       "  {'picture_thumb': 'https://imgs.kenlo.io/VWRCUkQ2Tnp3d1BJRDBJVe1szkhnWr9UfpZS9ftWwjXgr7v5Znen3XVcMHllDVRJJeIbi3YwVYEtu1tY+-I-z08eru06Z4i0szaa7K6fxtDCsBud-rjom7HF6ZjfRczX16MazfLiDnybg4F1cfkANRlnaNkiVVnUTY2HGVQB8ym+oXnMU+J-X0VI3hkLoityy3ymQYee5nUT8S+SLvzm8wqmb6O3H39tMLMNAdsz6EIJ9xa9SUxy8h8d4563vSCAaKyyLIOvkiMYDwYu6oa6SeKv15TFJsonDqooL34J41sRFqAe2beFX6J24QkLuOfUB1+EkBnHl+8kYMGwX95NnaAcwV2VHLFJvxa9x9WW1fClaErSOlI+9rjM-PWwOv30TfvsfWujjpxGpM3RdtxaKY-jXzZLV2EycmIR+RH6ufSHsEzuIHbY5F0WWAvfj45k9Ds3YBIV7Zw=.jpg',\n",
       "   'picture_full': 'https://imgs.kenlo.io/VWRCUkQ2Tnp3d1BJRDBJVe1szkhnWr9UfpZS9ftWwjXgr7v5Znen3XVcMHllDVRJJeIbi3YwVYEtu1tY+-I-z08eru06Z4i0szaa7K6fxtDCsBud-rjom7HF6ZjfRczX16MazfLiDnybg4F1cfkANRlnaNkiVVnUTY2HGVQB8ym+oXnMU+J-X0VI3hkLoityy3ymQYee5nUT8S+SLvzm8wqmb6O3H39tMLMNAdsz6EIJ9xa9SUxy8h8d55m-oS7TO7S-K5+hxzlXFx5k9oa+Squ619jCLJU4Vr0lNm4L5VMZWe0S2-TJT-8+5wEDqv3JFhXchgzWgPAoc9j0Qd9ImaIAiFmRTbVN7UuzwIWW1fT5ZkqBZ1o89rufq-a2PfjxHvyjOWGvj5cGs8+IJpNNJIajSDQVXHNgZWBD6QL1tPjG7lLnZXjWtkIKCRPHzs9q+nYoMgob6dER.jpg',\n",
       "   'photo_type': 'LISTING'},\n",
       "  {'picture_thumb': 'https://imgs.kenlo.io/VWRCUkQ2Tnp3d1BJRDBJVe1szkhnWr9UfpZS9ftWwjXgr7v5Znen3XVcMHllDVRJJeIbi3YwVYEtu354yY1szDs6vf0Qeu6ujjG29I6Ju9icvG6xyMrYpJnxyuPiUejM4tsBiY3TSly8rqJ+H4YaBH99Q9tzFDXKVpaHMlVIkzS8+3nJcYNISE5Q-gJpkzl833S4ase98wUa7B2OUu3ntyGHYpD-Olx6CrMNAdsz6EIJ9xa9SUxy8h8d4563vSCAaKyyLIOvkiMYDwYu6oa6SeKv15TFJsonDqooL34J41sRFqAe2beFX6J24QkLuOfUB1+EkBnHl+8kYMGwX95NnaAcwV2VHLFJvxa9x9WW1fClaErSOlI+9rjM-PWwOv30TfvsfWujjpxGpM3RdtxaKY-jXzZLV2EycmIR+RH6ufSHsEzuIHbY5F0WWAvfj45k9Ds3YBIV7Zw=.jpg',\n",
       "   'picture_full': 'https://imgs.kenlo.io/VWRCUkQ2Tnp3d1BJRDBJVe1szkhnWr9UfpZS9ftWwjXgr7v5Znen3XVcMHllDVRJJeIbi3YwVYEtu354yY1szDs6vf0Qeu6ujjG29I6Ju9icvG6xyMrYpJnxyuPiUejM4tsBiY3TSly8rqJ+H4YaBH99Q9tzFDXKVpaHMlVIkzS8+3nJcYNISE5Q-gJpkzl833S4ase98wUa7B2OUu3ntyGHYpD-Olx6CrMNAdsz6EIJ9xa9SUxy8h8d55m-oS7TO7S-K5+hxzlXFx5k9oa+Squ619jCLJU4Vr0lNm4L5VMZWe0S2-TJT-8+5wEDqv3JFhXchgzWgPAoc9j0Qd9ImaIAiFmRTbVN7UuzwIWW1fT5ZkqBZ1o89rufq-a2PfjxHvyjOWGvj5cGs8+IJpNNJIajSDQVXHNgZWBD6QL1tPjG7lLnZXjWtkIKCRPHzs9q+nYoMgob6dER.jpg',\n",
       "   'photo_type': 'LISTING'},\n",
       "  {'picture_thumb': 'https://imgs.kenlo.io/VWRCUkQ2Tnp3d1BJRDBJVe1szkhnWr9UfpZS9ftWwjXgr7v5Znen3XVcMHllDVRJJeIbi3YwVYEtu2k+9Y1eyA4PoModbY+PrTmZ0b67x9ycjBy39oLE4rLb1uXjZNnFmbk+3L6sLniMuI1XVMV3M1JiZLRDcjr7U6uFZU9Nqj6mmH-Pa7lDQWNS-R1orA9RnEGEWruB-GY-yXyHTs-1px+TSovtL3tlRbMNAdsz6EIJ9xa9SUxy8h8d4563vSCAaKyyLIOvkiMYDwYu6oa6SeKv15TFJsonDqooL34J41sRFqAe2beFX6J24QkLuOfUB1+EkBnHl+8kYMGwX95NnaAcwV2VHLFJvxa9x9WW1fClaErSOlI+9rjM-PWwOv30TfvsfWujjpxGpM3RdtxaKY-jXzZLV2EycmIR+RH6ufSHsEzuIHbY5F0WWAvfj45k9Ds3YBIV7Zw=.jpg',\n",
       "   'picture_full': 'https://imgs.kenlo.io/VWRCUkQ2Tnp3d1BJRDBJVe1szkhnWr9UfpZS9ftWwjXgr7v5Znen3XVcMHllDVRJJeIbi3YwVYEtu2k+9Y1eyA4PoModbY+PrTmZ0b67x9ycjBy39oLE4rLb1uXjZNnFmbk+3L6sLniMuI1XVMV3M1JiZLRDcjr7U6uFZU9Nqj6mmH-Pa7lDQWNS-R1orA9RnEGEWruB-GY-yXyHTs-1px+TSovtL3tlRbMNAdsz6EIJ9xa9SUxy8h8d55m-oS7TO7S-K5+hxzlXFx5k9oa+Squ619jCLJU4Vr0lNm4L5VMZWe0S2-TJT-8+5wEDqv3JFhXchgzWgPAoc9j0Qd9ImaIAiFmRTbVN7UuzwIWW1fT5ZkqBZ1o89rufq-a2PfjxHvyjOWGvj5cGs8+IJpNNJIajSDQVXHNgZWBD6QL1tPjG7lLnZXjWtkIKCRPHzs9q+nYoMgob6dER.jpg',\n",
       "   'photo_type': 'LISTING'},\n",
       "  {'picture_thumb': 'https://imgs.kenlo.io/VWRCUkQ2Tnp3d1BJRDBJVe1szkhnWr9UfpZS9ftWwjXgr7v5Znen3XVcMHllDVRJJeIbi3YwVYEtuxZ53Yly2TcwzOQDVqHhtxbW7qa49fK2oU2z2s71muj32d6jfcnVxYk-1JzjCHyGmvR8duUObHBfetJTVCz1WKq-OUNsmSWLj3WdU7dxQlBS8AQVwDJ2yh7hTbOgz2cq-RGZN97DmA+wYaDEW1xfJLMNAdsz6EIJ9xa9SUxy8h8d4563vSCAaKyyLIOvkiMYDwYu6oa6SeKv15TFJsonDqooL34J41sRFqAe2beFX6J24QkLuOfUB1+EkBnHl+8kYMGwX95NnaAcwV2VHLFJvxa9x9WW1fClaErSOlI+9rjM-PWwOv30TfvsfWujjpxGpM3RdtxaKY-jXzZLV2EycmIR+RH6ufSHsEzuIHbY5F0WWAvfj45k9Ds3YBIV7Zw=.jpg',\n",
       "   'picture_full': 'https://imgs.kenlo.io/VWRCUkQ2Tnp3d1BJRDBJVe1szkhnWr9UfpZS9ftWwjXgr7v5Znen3XVcMHllDVRJJeIbi3YwVYEtuxZ53Yly2TcwzOQDVqHhtxbW7qa49fK2oU2z2s71muj32d6jfcnVxYk-1JzjCHyGmvR8duUObHBfetJTVCz1WKq-OUNsmSWLj3WdU7dxQlBS8AQVwDJ2yh7hTbOgz2cq-RGZN97DmA+wYaDEW1xfJLMNAdsz6EIJ9xa9SUxy8h8d55m-oS7TO7S-K5+hxzlXFx5k9oa+Squ619jCLJU4Vr0lNm4L5VMZWe0S2-TJT-8+5wEDqv3JFhXchgzWgPAoc9j0Qd9ImaIAiFmRTbVN7UuzwIWW1fT5ZkqBZ1o89rufq-a2PfjxHvyjOWGvj5cGs8+IJpNNJIajSDQVXHNgZWBD6QL1tPjG7lLnZXjWtkIKCRPHzs9q+nYoMgob6dER.jpg',\n",
       "   'photo_type': 'LISTING'},\n",
       "  {'picture_thumb': 'https://imgs.kenlo.io/VWRCUkQ2Tnp3d1BJRDBJVe1szkhnWr9UfpZS9ftWwjXgr7v5Znen3XVcMHllDVRJJeIbi3YwVYEtuxZY55dgwA4+vdIhYeGBsnKn5IOI3Pmz9Vi86o2Ok+jG8Zv4Bcryy6kYz4z9DHGi9v9dGecCMk57Ws0idwbjRYuRAmYAjASo9krWeOUdaEZs+ycznQZf3mWrfLiy6lQx6R+OBMqHkiyqCbjHC0MZMLMNAdsz6EIJ9xa9SUxy8h8d4563vSCAaKyyLIOvkiMYDwYu6oa6SeKv15TFJsonDqooL34J41sRFqAe2beFX6J24QkLuOfUB1+EkBnHl+8kYMGwX95NnaAcwV2VHLFJvxa9x9WW1fClaErSOlI+9rjM-PWwOv30TfvsfWujjpxGpM3RdtxaKY-jXzZLV2EycmIR+RH6ufSHsEzuIHbY5F0WWAvfj45k9Ds3YBIV7Zw=.jpg',\n",
       "   'picture_full': 'https://imgs.kenlo.io/VWRCUkQ2Tnp3d1BJRDBJVe1szkhnWr9UfpZS9ftWwjXgr7v5Znen3XVcMHllDVRJJeIbi3YwVYEtuxZY55dgwA4+vdIhYeGBsnKn5IOI3Pmz9Vi86o2Ok+jG8Zv4Bcryy6kYz4z9DHGi9v9dGecCMk57Ws0idwbjRYuRAmYAjASo9krWeOUdaEZs+ycznQZf3mWrfLiy6lQx6R+OBMqHkiyqCbjHC0MZMLMNAdsz6EIJ9xa9SUxy8h8d55m-oS7TO7S-K5+hxzlXFx5k9oa+Squ619jCLJU4Vr0lNm4L5VMZWe0S2-TJT-8+5wEDqv3JFhXchgzWgPAoc9j0Qd9ImaIAiFmRTbVN7UuzwIWW1fT5ZkqBZ1o89rufq-a2PfjxHvyjOWGvj5cGs8+IJpNNJIajSDQVXHNgZWBD6QL1tPjG7lLnZXjWtkIKCRPHzs9q+nYoMgob6dER.jpg',\n",
       "   'photo_type': 'LISTING'},\n",
       "  {'picture_thumb': 'https://imgs.kenlo.io/VWRCUkQ2Tnp3d1BJRDBJVe1szkhnWr9UfpZS9ftWwjXgr7v5Znen3XVcMHllDVRJJeIbi3YwVYEtu0xs4fZIwilnmPsQbr6xhg2N+ouO2NymgUGIyqjtlYzq7cDTe9rPzJ0vyvDNDlOsg4dKSfgkHm90S+BiehnAAIOvbCR68wGM+0vVT4VMYndyxD0DoAxu+AeWTYiC3m8AwTiXNtTGjyONHJ-9EURlQPlLANk18QdW9hinR0InpwcS45urs3PTcKG1MI36iGwAF0wy6oK5APevm5PPedV-GacxP3wP61NeW6wcmvuVAupw6QEZovrFTQeShQjQiOM3eYWuXttJn7xVxVnEGLUb4hi6l9WW0ayraBmPMlA+9eub--O3P-inSrSod2eihdxRppSBOctXIM-0XWhARTMlcDAB6h73tbXZrkWrLniK+0FHQBOezoBquSRleBwRoA==.jpg',\n",
       "   'picture_full': 'https://imgs.kenlo.io/VWRCUkQ2Tnp3d1BJRDBJVe1szkhnWr9UfpZS9ftWwjXgr7v5Znen3XVcMHllDVRJJeIbi3YwVYEtu0xs4fZIwilnmPsQbr6xhg2N+ouO2NymgUGIyqjtlYzq7cDTe9rPzJ0vyvDNDlOsg4dKSfgkHm90S+BiehnAAIOvbCR68wGM+0vVT4VMYndyxD0DoAxu+AeWTYiC3m8AwTiXNtTGjyONHJ-9EURlQPlLANk18QdW9hinR0InpwcW5JO3vSCAaKyyLIOvkiMYDwYu6oa6SeKv15TFJsonDqooL34J41sRFqAe2beFX6J24QkLuOfUB1+EkBnHl+8kYMGwX95NnaAcwV2VHLFJvxa9x9WW1fClaErSOlI+9rjM-PWwOv30TfvsfWujjpxGpM3RdtxaKY-jXzZLV2EycmIR+RH6ufSHsEzuIHbY5F0WWAvfj45k9Ds3YBIV7Zw=.jpg',\n",
       "   'photo_type': 'LISTING'},\n",
       "  {'picture_thumb': 'https://imgs.kenlo.io/VWRCUkQ2Tnp3d1BJRDBJVe1szkhnWr9UfpZS9ftWwjXgr7v5Znen3XVcMHllDVRJJeIbi3YwVYEtu0Jf-sxSzRE3lJYwZL2f4ySLh7yG9vHIvE7N-5CGvbmL9urPB9b91K0H84r+KwD3nr4+RecBOGlnbuxzfTXoaJahHGBB8wa9vR2Sb+pkH3NIwihsvidg+3+SAcmG9UQK-CKAC8iA9QOiQKX-H2N1QPlLANk18QdW9hinR0InpwcS45urs3PTcKG1MI36iGwAF0wy6oK5APevm5PPedV-GacxP3wP61NeW6wcmvuVAupw6QEZovrFTQeShQjQiOM3eYWuXttJn7xVxVnEGLUb4hi6l9WW0ayraBmPMlA+9eub--O3P-inSrSod2eihdxRppSBOctXIM-0XWhARTMlcDAB6h73tbXZrkWrLniK+0FHQBOezoBquSRleBwRoA==.jpg',\n",
       "   'picture_full': 'https://imgs.kenlo.io/VWRCUkQ2Tnp3d1BJRDBJVe1szkhnWr9UfpZS9ftWwjXgr7v5Znen3XVcMHllDVRJJeIbi3YwVYEtu0Jf-sxSzRE3lJYwZL2f4ySLh7yG9vHIvE7N-5CGvbmL9urPB9b91K0H84r+KwD3nr4+RecBOGlnbuxzfTXoaJahHGBB8wa9vR2Sb+pkH3NIwihsvidg+3+SAcmG9UQK-CKAC8iA9QOiQKX-H2N1QPlLANk18QdW9hinR0InpwcW5JO3vSCAaKyyLIOvkiMYDwYu6oa6SeKv15TFJsonDqooL34J41sRFqAe2beFX6J24QkLuOfUB1+EkBnHl+8kYMGwX95NnaAcwV2VHLFJvxa9x9WW1fClaErSOlI+9rjM-PWwOv30TfvsfWujjpxGpM3RdtxaKY-jXzZLV2EycmIR+RH6ufSHsEzuIHbY5F0WWAvfj45k9Ds3YBIV7Zw=.jpg',\n",
       "   'photo_type': 'LISTING'},\n",
       "  {'picture_thumb': 'https://imgs.kenlo.io/VWRCUkQ2Tnp3d1BJRDBJVe1szkhnWr9UfpZS9ftWwjXgr7v5Znen3XVcMHllDVRJJeIbi3YwVYEtu1V-9Y1NvTgDu9MmdbKBlje414+p5PW+9GKhqM7btKvkx5OkWsrZyLAC47P6D1CnuaV4e8YYImZUbud1FD+3BoLbAF98-jWJo37NZeBAfFFr2h01wTtnxHSAGJ2rxX0d+D30Kffek3anQ-y+BFV1QPlLANk18QdW9hinR0InpwcS45urs3PTcKG1MI36iGwAF0wy6oK5APevm5PPedV-GacxP3wP61NeW6wcmvuVAupw6QEZovrFTQeShQjQiOM3eYWuXttJn7xVxVnEGLUb4hi6l9WW0ayraBmPMlA+9eub--O3P-inSrSod2eihdxRppSBOctXIM-0XWhARTMlcDAB6h73tbXZrkWrLniK+0FHQBOezoBquSRleBwRoA==.jpg',\n",
       "   'picture_full': 'https://imgs.kenlo.io/VWRCUkQ2Tnp3d1BJRDBJVe1szkhnWr9UfpZS9ftWwjXgr7v5Znen3XVcMHllDVRJJeIbi3YwVYEtu1V-9Y1NvTgDu9MmdbKBlje414+p5PW+9GKhqM7btKvkx5OkWsrZyLAC47P6D1CnuaV4e8YYImZUbud1FD+3BoLbAF98-jWJo37NZeBAfFFr2h01wTtnxHSAGJ2rxX0d+D30Kffek3anQ-y+BFV1QPlLANk18QdW9hinR0InpwcW5JO3vSCAaKyyLIOvkiMYDwYu6oa6SeKv15TFJsonDqooL34J41sRFqAe2beFX6J24QkLuOfUB1+EkBnHl+8kYMGwX95NnaAcwV2VHLFJvxa9x9WW1fClaErSOlI+9rjM-PWwOv30TfvsfWujjpxGpM3RdtxaKY-jXzZLV2EycmIR+RH6ufSHsEzuIHbY5F0WWAvfj45k9Ds3YBIV7Zw=.jpg',\n",
       "   'photo_type': 'LISTING'}],\n",
       " 'picture_full': 'https://imgs.kenlo.io/VWRCUkQ2Tnp3d1BJRDBJVe1szkhnWr9UfpZS9ftWwjXgr7v5Znen3XVcMHllDVRJJeIbi3YwVYEtuxk94P1lyjAQidYVAYSMmXai8NS9w4m9sRjL4rDatavbzJzie9uF-6Q7-Iv9SmaGra5gH8B5FURJd8pcbDP4BcLFZil7jjaTmWDEXeZ2WVcL-VltzA9LgUrpTJ-07kZq5weUDsLnjx6nZ4zEG2FWTbMNAdsz6EIJ9xa9SUxy8h8d55m-oS7TO7S-K5+hxzlXFx5k9oa+Squ619jCLJU4Vr0lNm4L5VMZWe0S2-TJT-8+5wEDqv3JFhXchgzWgPAoc9j0Qd9ImaIAiFmRTbVN7UuzwIWW1fT5ZkqBZ1o89rufq-a2PfjxHvyjOWGvj5cGs8+IJpNNJIajSDQVXHNgZWBD6QL1tPjG7lLnZXjWtkIKCRPHzs9q+nYoMgob6dER.jpg',\n",
       " 'picture_title': '',\n",
       " 'picture_thumb': 'https://imgs.kenlo.io/VWRCUkQ2Tnp3d1BJRDBJVe1szkhnWr9UfpZS9ftWwjXgr7v5Znen3XVcMHllDVRJJeIbi3YwVYEtuxk94P1lyjAQidYVAYSMmXai8NS9w4m9sRjL4rDatavbzJzie9uF-6Q7-Iv9SmaGra5gH8B5FURJd8pcbDP4BcLFZil7jjaTmWDEXeZ2WVcL-VltzA9LgUrpTJ-07kZq5weUDsLnjx6nZ4zEG2FWTbMNAdsz6EIJ9xa9SUxy8h8d4563vSCAaKyyLIOvkiMYDwYu6oa6SeKv15TFJsonDqooL34J41sRFqAe2beFX6J24QkLuOfUB1+EkBnHl+8kYMGwX95NnaAcwV2VHLFJvxa9x9WW1fClaErSOlI+9rjM-PWwOv30TfvsfWujjpxGpM3RdtxaKY-jXzZLV2EycmIR+RH6ufSHsEzuIHbY5F0WWAvfj45k9Ds3YBIV7Zw=.jpg',\n",
       " 'property_full_reference': 'CA2248-I9V',\n",
       " 'property_metreage': 'SQFT',\n",
       " 'property_purposes': 'FOR_SALE',\n",
       " 'property_tax': 2500,\n",
       " 'property_tax_payment': 'YEARLY',\n",
       " 'property_type': 'HOUSE',\n",
       " 'rent_guarantee': [],\n",
       " 'rent_payment': 'MONTHLY',\n",
       " 'rent_price': [0, 0],\n",
       " 'retail_price_expiration': '',\n",
       " 'rules': [],\n",
       " 'sale_price': [4300000, 4300000],\n",
       " 'show_price': 'SALE',\n",
       " 'state': 'SP',\n",
       " 'suites': [5, 5],\n",
       " 'type': 'imob_property',\n",
       " 'video_url': 'https://youtu.be/SsOkEFGW9-c',\n",
       " 'website_title': 'Casa de 435 m² Condomínio Residencial Alphaville II - São José dos Campos, à venda por R$ 4.300.000',\n",
       " 'breadcrumbs': [{'text': 'Imóveis', 'path': 'imoveis'},\n",
       "  {'text': 'À venda', 'path': 'imoveis/a-venda'},\n",
       "  {'text': 'Casa', 'path': 'imoveis/a-venda/casa'},\n",
       "  {'text': 'São José dos Campos',\n",
       "   'path': 'imoveis/a-venda/casa/sao-jose-dos-campos'},\n",
       "  {'text': 'Condomínio Residencial Alphaville II',\n",
       "   'path': 'imoveis/a-venda/casa/sao-jose-dos-campos/condominio-residencial-alphaville-ii'}],\n",
       " 'heading1': 'Casa com 5 quartos, 435 m²',\n",
       " 'heading2': 'Condomínio Residencial Alphaville II - São José dos Campos/SP',\n",
       " 'url': '/imovel/casa-de-435-m-condominio-residencial-alphaville-ii-sao-jose-dos-campos-a-venda-por-4300000/CA2248-I9V'}"
      ]
     },
     "execution_count": null,
     "metadata": {},
     "output_type": "execute_result"
    }
   ],
   "source": [
    "res.json()['data'][0]"
   ]
  },
  {
   "cell_type": "code",
   "execution_count": null,
   "id": "f096fa06-9c7b-4611-85d3-cc0f6ef6b38c",
   "metadata": {},
   "outputs": [
    {
     "data": {
      "text/plain": [
       "dict_keys(['data', 'count', 'aggs', 'coordinates', 'title', 'self'])"
      ]
     },
     "execution_count": null,
     "metadata": {},
     "output_type": "execute_result"
    }
   ],
   "source": [
    "p2.keys()"
   ]
  },
  {
   "cell_type": "markdown",
   "id": "29056cb2-18ac-4745-9465-990c5831e963",
   "metadata": {},
   "source": [
    "## TOP Imoveis"
   ]
  },
  {
   "cell_type": "markdown",
   "id": "003dac53-635f-4c8f-b4ef-e68db66bb22a",
   "metadata": {},
   "source": [
    "## Rental"
   ]
  },
  {
   "cell_type": "code",
   "execution_count": null,
   "id": "34b9d7bf-295f-439d-bc68-150bb6a9fb78",
   "metadata": {},
   "outputs": [],
   "source": [
    "base_url = 'https://www.topimoveissjc.com.br'\n",
    "api_url = f\"{base_url}/api/service/consult\"\n"
   ]
  },
  {
   "cell_type": "code",
   "execution_count": null,
   "id": "bae0447f-ed38-49e4-b527-c27b3feb492e",
   "metadata": {},
   "outputs": [],
   "source": [
    "post_data = '''{{\n",
    "        \"start\":{offset},\n",
    "        \"numRows\":{size},\n",
    "        \"type\":\"L\",\n",
    "        \"place\":null,\n",
    "        \"idtCityList\":[1],\n",
    "        \"idtDistrictList\":[],\n",
    "        \"idtCondominiumList\":[],\n",
    "        \"idtsCategories\":[],\n",
    "        \"idtsSubCategories\":[],\n",
    "        \"mapSubCategories\":{{}},\n",
    "        \"rooms\":null,\n",
    "        \"bathrooms\":null,\n",
    "        \"garages\":null,\n",
    "        \"characteristics\":[],\n",
    "        \"condominiumCharacteristics\":[],\n",
    "        \"fromPrice\":null,\n",
    "        \"toPrice\":null,\n",
    "        \"minArea\":null,\n",
    "        \"maxArea\":null,\n",
    "        \"usefulArea\":false,\n",
    "        \"namStreet\":null,\n",
    "        \"searchTotal\":false,\n",
    "        \"flgRentByPeriod\":false,\n",
    "        \"idtsCampaigns\":[],\n",
    "        \"getAccess\":true,\n",
    "        \"post\":true,\n",
    "        \"sortList\":[\"code_DESC\"],\n",
    "        \"fieldList\":\n",
    "                    [\n",
    "                \"indType\",\"jsonPhotos\",\"namCategory\",\"namCity\",\"idtCity\",\"namCondominium\",\"namDistrict\",\"namState\",\n",
    "                \"namStreet\",\"namSubCategory\",\"numNumber\",\"prop_char_1\",\"prop_char_2\",\"prop_char_95\",\"prop_char_5\",\n",
    "                \"prop_char_176\",\"prop_char_12\",\"totalGarages\",\"totalRooms\",\"valLocation\",\"valSales\",\"idtProperty\",\n",
    "                \"latitude\",\"longitude\",\"totalAccess\",\"jsonCampaigns\",\"flgHighlight\",\"jsonOffers\",\"idtExternal\",\n",
    "                \"flgReservedLocation\"\n",
    "                ],\n",
    "        \"jsonPhotosNum\":5,\n",
    "        \"hidePendingLocation\":false,\n",
    "        \"hidePrevisionOutput\":false,\n",
    "        \"hideApprovedDocumentation\":false\n",
    "        }} '''"
   ]
  },
  {
   "cell_type": "code",
   "execution_count": null,
   "id": "b8f5579f-27c6-424c-8c00-3375d975c1ac",
   "metadata": {},
   "outputs": [],
   "source": [
    "json_data = json.loads(post_data.format(offset=0, size=100))"
   ]
  },
  {
   "cell_type": "code",
   "execution_count": null,
   "id": "e51535e4-944f-4fc4-9697-aaf6dd20180a",
   "metadata": {},
   "outputs": [],
   "source": [
    "res = requests.post(api_url, json=json_data)"
   ]
  },
  {
   "cell_type": "code",
   "execution_count": null,
   "id": "43fffb3c-cc7a-486b-a2ab-44270e4a0ceb",
   "metadata": {},
   "outputs": [
    {
     "data": {
      "text/plain": [
       "{'Date': 'Tue, 28 Mar 2023 13:58:01 GMT', 'Server': 'Apache', 'X-Powered-By': 'Express', 'Content-Type': 'application/json; charset=utf-8', 'ETag': 'W/\"1c678-K/zgHbJpAKIuD7bVQ7Tp47E7hd0\"', 'Vary': 'Accept-Encoding', 'Content-Encoding': 'gzip', 'Keep-Alive': 'timeout=10', 'Connection': 'Keep-Alive', 'Transfer-Encoding': 'chunked'}"
      ]
     },
     "execution_count": null,
     "metadata": {},
     "output_type": "execute_result"
    }
   ],
   "source": [
    "res.headers"
   ]
  },
  {
   "cell_type": "code",
   "execution_count": null,
   "id": "da0f5981-cc93-4384-b9bc-e269a5564c95",
   "metadata": {},
   "outputs": [],
   "source": [
    "data = res.json()"
   ]
  },
  {
   "cell_type": "code",
   "execution_count": null,
   "id": "e40b51c0-00c4-4eb5-a5aa-f9885da07d9a",
   "metadata": {},
   "outputs": [
    {
     "data": {
      "text/plain": [
       "86"
      ]
     },
     "execution_count": null,
     "metadata": {},
     "output_type": "execute_result"
    }
   ],
   "source": [
    "data['response']['numFound']"
   ]
  },
  {
   "cell_type": "code",
   "execution_count": null,
   "id": "e518cf49-3423-4a9f-bf74-babff60e33d5",
   "metadata": {},
   "outputs": [
    {
     "data": {
      "text/plain": [
       "{'indType': 'SL',\n",
       " 'jsonPhotos': '[{\"desPhoto\":\"Foto\",\"urlPhoto\":\"https://s3.amazonaws.com/msys-imob-topimoveissjc/imovel/fotos/1651/4f677698818ec601e7b9dbce717a389e.jpg\",\"flgNotShowSite\":0},{\"desPhoto\":\" Foto\",\"urlPhoto\":\"https://s3.amazonaws.com/msys-imob-topimoveissjc/imovel/fotos/1651/12a20809f66f0a3464272222158c3cbf.jpg\",\"flgNotShowSite\":0},{\"desPhoto\":\" Foto\",\"urlPhoto\":\"https://s3.amazonaws.com/msys-imob-topimoveissjc/imovel/fotos/1651/c6480b5a6f95bd4bd456d64db43f9ac5.jpg\",\"flgNotShowSite\":0},{\"desPhoto\":\" Foto\",\"urlPhoto\":\"https://s3.amazonaws.com/msys-imob-topimoveissjc/imovel/fotos/1651/86d00256c629d675dcc83b5f14adf75a.jpg\",\"flgNotShowSite\":0},{\"desPhoto\":\" Foto\",\"urlPhoto\":\"https://s3.amazonaws.com/msys-imob-topimoveissjc/imovel/fotos/1651/394c3f99b4ed7956dae0327d3a5f4a36.jpg\",\"flgNotShowSite\":0}]',\n",
       " 'namCategory': 'Apartamentos',\n",
       " 'namCity': 'São José dos Campos',\n",
       " 'idtCity': 1,\n",
       " 'namCondominium': 'Condomínio Quartier ',\n",
       " 'namDistrict': 'Residencial Bosque dos Ipês',\n",
       " 'namState': 'São Paulo',\n",
       " 'namStreet': 'Rua Hugo José de Freitas',\n",
       " 'namSubCategory': 'Padrão',\n",
       " 'numNumber': '74',\n",
       " 'prop_char_95': 50,\n",
       " 'prop_char_5': 2,\n",
       " 'prop_char_176': 1,\n",
       " 'prop_char_12': 1,\n",
       " 'totalGarages': 1,\n",
       " 'totalRooms': 2,\n",
       " 'valLocation': 2174,\n",
       " 'valSales': 280000,\n",
       " 'idtProperty': 1651,\n",
       " 'latitude': '-23.2604800000000',\n",
       " 'longitude': '-45.8970300000000',\n",
       " 'totalAccess': 42,\n",
       " 'flgHighlight': 0,\n",
       " 'idtExternal': ''}"
      ]
     },
     "execution_count": null,
     "metadata": {},
     "output_type": "execute_result"
    }
   ],
   "source": [
    "data['response']['docs'][1]"
   ]
  },
  {
   "cell_type": "code",
   "execution_count": null,
   "id": "eb03fed4-c27f-4cc1-bca6-9a80583ea412",
   "metadata": {},
   "outputs": [
    {
     "data": {
      "text/plain": [
       "{'indType': 'L',\n",
       " 'jsonPhotos': '[{\"desPhoto\":\"Foto\",\"urlPhoto\":\"https://s3.amazonaws.com/msys-imob-topimoveissjc/imovel/fotos/1497/8bfac80585d0cfe38b81c60ed1b58ac3.jpg\",\"flgNotShowSite\":0},{\"desPhoto\":\" Foto\",\"urlPhoto\":\"https://s3.amazonaws.com/msys-imob-topimoveissjc/imovel/fotos/1497/2949a6c9c9810c3e7ad5cc360e87201c.jpg\",\"flgNotShowSite\":0},{\"desPhoto\":\" Foto\",\"urlPhoto\":\"https://s3.amazonaws.com/msys-imob-topimoveissjc/imovel/fotos/1497/b66f1cbeadb6e897ae81ef500981aee1.jpg\",\"flgNotShowSite\":0},{\"desPhoto\":\" Foto\",\"urlPhoto\":\"https://s3.amazonaws.com/msys-imob-topimoveissjc/imovel/fotos/1497/81c1a14a2c77c416fe9d093fb02f5d5b.jpg\",\"flgNotShowSite\":0},{\"desPhoto\":\" Foto\",\"urlPhoto\":\"https://s3.amazonaws.com/msys-imob-topimoveissjc/imovel/fotos/1497/eaa83c835d9eeb7e0b840bda87ff04db.jpg\",\"flgNotShowSite\":0}]',\n",
       " 'namCategory': 'Casas',\n",
       " 'namCity': 'São José dos Campos',\n",
       " 'idtCity': 1,\n",
       " 'namCondominium': 'Condomínio Portal da Serra',\n",
       " 'namDistrict': 'Urbanova I',\n",
       " 'namState': 'São Paulo',\n",
       " 'namStreet': 'Rua Maria Aparecida de Faria',\n",
       " 'namSubCategory': 'Sobrado Condomínio',\n",
       " 'numNumber': '255',\n",
       " 'prop_char_1': 260,\n",
       " 'prop_char_2': 326,\n",
       " 'prop_char_5': 4,\n",
       " 'prop_char_176': 3,\n",
       " 'prop_char_12': 2,\n",
       " 'totalGarages': 2,\n",
       " 'totalRooms': 5,\n",
       " 'valLocation': 4900,\n",
       " 'idtProperty': 1497,\n",
       " 'totalAccess': 47,\n",
       " 'flgHighlight': 0}"
      ]
     },
     "execution_count": null,
     "metadata": {},
     "output_type": "execute_result"
    }
   ],
   "source": [
    "data['response']['docs'][6]"
   ]
  },
  {
   "cell_type": "code",
   "execution_count": null,
   "id": "65d852dc-4bbb-47cb-b5a0-c76f4b006596",
   "metadata": {},
   "outputs": [
    {
     "data": {
      "text/plain": [
       "{'indType': 'L',\n",
       " 'jsonPhotos': '[{\"desPhoto\":\"Foto\",\"urlPhoto\":\"https://s3.amazonaws.com/msys-imob-topimoveissjc/imovel/fotos/1615/250e2c9a18a5a2abe591d0a9ab348484.jpg\",\"flgNotShowSite\":0},{\"desPhoto\":\" Foto\",\"urlPhoto\":\"https://s3.amazonaws.com/msys-imob-topimoveissjc/imovel/fotos/1615/8113ce95930980d1263cd862fea7f461.jpg\",\"flgNotShowSite\":0},{\"desPhoto\":\" Foto\",\"urlPhoto\":\"https://s3.amazonaws.com/msys-imob-topimoveissjc/imovel/fotos/1615/091d40246373154e2c60de5fa5b30cbe.jpg\",\"flgNotShowSite\":0},{\"desPhoto\":\" Foto\",\"urlPhoto\":\"https://s3.amazonaws.com/msys-imob-topimoveissjc/imovel/fotos/1615/cbb49dbc00ecc051b2742e6e1476da1f.jpg\",\"flgNotShowSite\":0},{\"desPhoto\":\" Foto\",\"urlPhoto\":\"https://s3.amazonaws.com/msys-imob-topimoveissjc/imovel/fotos/1615/73d48e722c9fe73611642d7081dae6be.jpg\",\"flgNotShowSite\":0}]',\n",
       " 'namCategory': 'Comercial',\n",
       " 'namCity': 'São José dos Campos',\n",
       " 'idtCity': 1,\n",
       " 'namDistrict': 'Vila Adyana',\n",
       " 'namState': 'São Paulo',\n",
       " 'namStreet': 'Avenida Doutor Adhemar de Barros',\n",
       " 'namSubCategory': 'Ponto',\n",
       " 'numNumber': '1050',\n",
       " 'prop_char_2': 400,\n",
       " 'prop_char_95': 340,\n",
       " 'prop_char_176': 4,\n",
       " 'prop_char_12': 4,\n",
       " 'totalGarages': 4,\n",
       " 'valLocation': 15000,\n",
       " 'idtProperty': 1615,\n",
       " 'latitude': '-23.2015100000000',\n",
       " 'longitude': '-45.8928900000000',\n",
       " 'totalAccess': 18,\n",
       " 'flgHighlight': 0}"
      ]
     },
     "execution_count": null,
     "metadata": {},
     "output_type": "execute_result"
    }
   ],
   "source": [
    "data['response']['docs'][2]"
   ]
  },
  {
   "cell_type": "code",
   "execution_count": null,
   "id": "7a11698f-7a4e-41d1-9cf9-e4ca009f2da9",
   "metadata": {},
   "outputs": [
    {
     "data": {
      "text/plain": [
       "{'Apartamentos', 'Casas', 'Comercial', 'Terreno'}"
      ]
     },
     "execution_count": null,
     "metadata": {},
     "output_type": "execute_result"
    }
   ],
   "source": [
    "set([x['namCategory'] for x in data['response']['docs']])# for k in x.keys()]))"
   ]
  },
  {
   "cell_type": "code",
   "execution_count": null,
   "id": "4dba2c59-e172-4c72-872b-9b7a996166bc",
   "metadata": {},
   "outputs": [],
   "source": []
  },
  {
   "cell_type": "markdown",
   "id": "82b9be6f-1d72-4d8e-be5f-f98c193639b4",
   "metadata": {},
   "source": [
    "## Sale"
   ]
  },
  {
   "cell_type": "code",
   "execution_count": null,
   "id": "47c75b99-5f83-4630-87b9-2105d43ad78a",
   "metadata": {},
   "outputs": [],
   "source": [
    "base_url = 'https://www.topimoveissjc.com.br'\n",
    "api_url = f\"{base_url}/api/service/consult\"\n"
   ]
  },
  {
   "cell_type": "code",
   "execution_count": null,
   "id": "66d4b73a-deb6-4415-bbf0-90a2ff34bf5a",
   "metadata": {},
   "outputs": [],
   "source": [
    "post_data = '''{{\n",
    "        \"start\":{offset},\n",
    "        \"numRows\":{size},\n",
    "        \"type\":\"S\",\n",
    "        \"place\":null,\n",
    "        \"idtCityList\":[1],\n",
    "        \"idtDistrictList\":[],\n",
    "        \"idtCondominiumList\":[],\n",
    "        \"idtsCategories\":[],\n",
    "        \"idtsSubCategories\":[],\n",
    "        \"mapSubCategories\":{{}},\n",
    "        \"rooms\":null,\n",
    "        \"bathrooms\":null,\n",
    "        \"garages\":null,\n",
    "        \"characteristics\":[],\n",
    "        \"condominiumCharacteristics\":[],\n",
    "        \"fromPrice\":null,\n",
    "        \"toPrice\":null,\n",
    "        \"minArea\":null,\n",
    "        \"maxArea\":null,\n",
    "        \"usefulArea\":false,\n",
    "        \"namStreet\":null,\n",
    "        \"searchTotal\":false,\n",
    "        \"flgRentByPeriod\":false,\n",
    "        \"idtsCampaigns\":[],\n",
    "        \"getAccess\":true,\n",
    "        \"post\":true,\n",
    "        \"sortList\":[\"code_DESC\"],\n",
    "        \"fieldList\":\n",
    "                    [\n",
    "                \"indType\",\"jsonPhotos\",\"namCategory\",\"namCity\",\"idtCity\",\"namCondominium\",\"namDistrict\",\"namState\",\n",
    "                \"namStreet\",\"namSubCategory\",\"numNumber\",\"prop_char_1\",\"prop_char_2\",\"prop_char_95\",\"prop_char_5\",\n",
    "                \"prop_char_176\",\"prop_char_12\",\"totalGarages\",\"totalRooms\",\"valLocation\",\"valSales\",\"idtProperty\",\n",
    "                \"latitude\",\"longitude\",\"totalAccess\",\"jsonCampaigns\",\"flgHighlight\",\"jsonOffers\",\"idtExternal\",\n",
    "                \"flgReservedLocation\"\n",
    "                ],\n",
    "        \"jsonPhotosNum\":5,\n",
    "        \"hidePendingLocation\":false,\n",
    "        \"hidePrevisionOutput\":false,\n",
    "        \"hideApprovedDocumentation\":false\n",
    "        }} '''"
   ]
  },
  {
   "cell_type": "code",
   "execution_count": null,
   "id": "d35d67d9-88e2-466f-aa3d-54fd2df1409f",
   "metadata": {},
   "outputs": [],
   "source": [
    "json_data = json.loads(post_data.format(offset=0, size=100))"
   ]
  },
  {
   "cell_type": "code",
   "execution_count": null,
   "id": "f12cfce0-1e0b-42a0-b46b-88893fc6a0bf",
   "metadata": {},
   "outputs": [],
   "source": [
    "res = requests.post(api_url, json=json_data)"
   ]
  },
  {
   "cell_type": "code",
   "execution_count": null,
   "id": "b805fc2d-bc5f-4ddd-b626-35d5385ec69d",
   "metadata": {},
   "outputs": [],
   "source": [
    "data = res.json()"
   ]
  },
  {
   "cell_type": "code",
   "execution_count": null,
   "id": "314a7d77-d809-44aa-b21d-a7f9f8729be2",
   "metadata": {},
   "outputs": [
    {
     "data": {
      "text/plain": [
       "602"
      ]
     },
     "execution_count": null,
     "metadata": {},
     "output_type": "execute_result"
    }
   ],
   "source": [
    "data['response']['numFound']"
   ]
  },
  {
   "cell_type": "code",
   "execution_count": null,
   "id": "f74c9e73-1219-4d88-b647-323185f12db9",
   "metadata": {},
   "outputs": [
    {
     "data": {
      "text/plain": [
       "{'indType': 'S',\n",
       " 'jsonPhotos': '[{\"desPhoto\":\"Foto\",\"urlPhoto\":\"https://s3.amazonaws.com/msys-imob-topimoveissjc/imovel/fotos/1690/b9fe8d625437c6c8c2b44455a5e3b04d.jpg\",\"flgNotShowSite\":0},{\"desPhoto\":\" Foto\",\"urlPhoto\":\"https://s3.amazonaws.com/msys-imob-topimoveissjc/imovel/fotos/1690/3b28f1e887a09f9a288a830759df76b2.jpg\",\"flgNotShowSite\":0},{\"desPhoto\":\" Foto\",\"urlPhoto\":\"https://s3.amazonaws.com/msys-imob-topimoveissjc/imovel/fotos/1690/9193c8fa2fabe888e04780316b791843.jpg\",\"flgNotShowSite\":0},{\"desPhoto\":\" Foto\",\"urlPhoto\":\"https://s3.amazonaws.com/msys-imob-topimoveissjc/imovel/fotos/1690/14057ebcdff8afcc522c4f85533cf018.jpg\",\"flgNotShowSite\":0},{\"desPhoto\":\" Foto\",\"urlPhoto\":\"https://s3.amazonaws.com/msys-imob-topimoveissjc/imovel/fotos/1690/24337133a58fd5593ebd393042808157.jpg\",\"flgNotShowSite\":0}]',\n",
       " 'namCategory': 'Comercial',\n",
       " 'namCity': 'São José dos Campos',\n",
       " 'idtCity': 1,\n",
       " 'namDistrict': 'Parque Novo Horizonte',\n",
       " 'namState': 'São Paulo',\n",
       " 'namStreet': 'Rua dos Mecânicos',\n",
       " 'namSubCategory': 'Prédio',\n",
       " 'numNumber': '371',\n",
       " 'prop_char_2': 300,\n",
       " 'prop_char_95': 300,\n",
       " 'prop_char_176': 5,\n",
       " 'prop_char_12': 3,\n",
       " 'totalGarages': 3,\n",
       " 'valSales': 1200000,\n",
       " 'idtProperty': 1690,\n",
       " 'latitude': '-23.1928200000000',\n",
       " 'longitude': '-45.7844200000000',\n",
       " 'totalAccess': 0,\n",
       " 'flgHighlight': 0,\n",
       " 'idtExternal': ''}"
      ]
     },
     "execution_count": null,
     "metadata": {},
     "output_type": "execute_result"
    }
   ],
   "source": [
    "data['response']['docs'][1]"
   ]
  },
  {
   "cell_type": "code",
   "execution_count": null,
   "id": "de240690-1207-4c28-8686-f2ecd692da58",
   "metadata": {},
   "outputs": [
    {
     "data": {
      "text/plain": [
       "{'indType': 'L',\n",
       " 'jsonPhotos': '[{\"desPhoto\":\"Foto\",\"urlPhoto\":\"https://s3.amazonaws.com/msys-imob-topimoveissjc/imovel/fotos/1497/8bfac80585d0cfe38b81c60ed1b58ac3.jpg\",\"flgNotShowSite\":0},{\"desPhoto\":\" Foto\",\"urlPhoto\":\"https://s3.amazonaws.com/msys-imob-topimoveissjc/imovel/fotos/1497/2949a6c9c9810c3e7ad5cc360e87201c.jpg\",\"flgNotShowSite\":0},{\"desPhoto\":\" Foto\",\"urlPhoto\":\"https://s3.amazonaws.com/msys-imob-topimoveissjc/imovel/fotos/1497/b66f1cbeadb6e897ae81ef500981aee1.jpg\",\"flgNotShowSite\":0},{\"desPhoto\":\" Foto\",\"urlPhoto\":\"https://s3.amazonaws.com/msys-imob-topimoveissjc/imovel/fotos/1497/81c1a14a2c77c416fe9d093fb02f5d5b.jpg\",\"flgNotShowSite\":0},{\"desPhoto\":\" Foto\",\"urlPhoto\":\"https://s3.amazonaws.com/msys-imob-topimoveissjc/imovel/fotos/1497/eaa83c835d9eeb7e0b840bda87ff04db.jpg\",\"flgNotShowSite\":0}]',\n",
       " 'namCategory': 'Casas',\n",
       " 'namCity': 'São José dos Campos',\n",
       " 'idtCity': 1,\n",
       " 'namCondominium': 'Condomínio Portal da Serra',\n",
       " 'namDistrict': 'Urbanova I',\n",
       " 'namState': 'São Paulo',\n",
       " 'namStreet': 'Rua Maria Aparecida de Faria',\n",
       " 'namSubCategory': 'Sobrado Condomínio',\n",
       " 'numNumber': '255',\n",
       " 'prop_char_1': 260,\n",
       " 'prop_char_2': 326,\n",
       " 'prop_char_5': 4,\n",
       " 'prop_char_176': 3,\n",
       " 'prop_char_12': 2,\n",
       " 'totalGarages': 2,\n",
       " 'totalRooms': 5,\n",
       " 'valLocation': 4900,\n",
       " 'idtProperty': 1497,\n",
       " 'totalAccess': 47,\n",
       " 'flgHighlight': 0}"
      ]
     },
     "execution_count": null,
     "metadata": {},
     "output_type": "execute_result"
    }
   ],
   "source": [
    "data['response']['docs'][6]"
   ]
  },
  {
   "cell_type": "code",
   "execution_count": null,
   "id": "a62cfc8e-daf7-43ff-a622-e52d16d5d474",
   "metadata": {},
   "outputs": [
    {
     "data": {
      "text/plain": [
       "{'indType': 'L',\n",
       " 'jsonPhotos': '[{\"desPhoto\":\"Foto\",\"urlPhoto\":\"https://s3.amazonaws.com/msys-imob-topimoveissjc/imovel/fotos/1615/250e2c9a18a5a2abe591d0a9ab348484.jpg\",\"flgNotShowSite\":0},{\"desPhoto\":\" Foto\",\"urlPhoto\":\"https://s3.amazonaws.com/msys-imob-topimoveissjc/imovel/fotos/1615/8113ce95930980d1263cd862fea7f461.jpg\",\"flgNotShowSite\":0},{\"desPhoto\":\" Foto\",\"urlPhoto\":\"https://s3.amazonaws.com/msys-imob-topimoveissjc/imovel/fotos/1615/091d40246373154e2c60de5fa5b30cbe.jpg\",\"flgNotShowSite\":0},{\"desPhoto\":\" Foto\",\"urlPhoto\":\"https://s3.amazonaws.com/msys-imob-topimoveissjc/imovel/fotos/1615/cbb49dbc00ecc051b2742e6e1476da1f.jpg\",\"flgNotShowSite\":0},{\"desPhoto\":\" Foto\",\"urlPhoto\":\"https://s3.amazonaws.com/msys-imob-topimoveissjc/imovel/fotos/1615/73d48e722c9fe73611642d7081dae6be.jpg\",\"flgNotShowSite\":0}]',\n",
       " 'namCategory': 'Comercial',\n",
       " 'namCity': 'São José dos Campos',\n",
       " 'idtCity': 1,\n",
       " 'namDistrict': 'Vila Adyana',\n",
       " 'namState': 'São Paulo',\n",
       " 'namStreet': 'Avenida Doutor Adhemar de Barros',\n",
       " 'namSubCategory': 'Ponto',\n",
       " 'numNumber': '1050',\n",
       " 'prop_char_2': 400,\n",
       " 'prop_char_95': 340,\n",
       " 'prop_char_176': 4,\n",
       " 'prop_char_12': 4,\n",
       " 'totalGarages': 4,\n",
       " 'valLocation': 15000,\n",
       " 'idtProperty': 1615,\n",
       " 'latitude': '-23.2015100000000',\n",
       " 'longitude': '-45.8928900000000',\n",
       " 'totalAccess': 18,\n",
       " 'flgHighlight': 0}"
      ]
     },
     "execution_count": null,
     "metadata": {},
     "output_type": "execute_result"
    }
   ],
   "source": [
    "data['response']['docs'][2]"
   ]
  },
  {
   "cell_type": "code",
   "execution_count": null,
   "id": "14f3c6e2-39de-45cf-99e1-b50baf824485",
   "metadata": {},
   "outputs": [
    {
     "data": {
      "text/plain": [
       "{'Apartamentos', 'Casas', 'Comercial', 'Terreno'}"
      ]
     },
     "execution_count": null,
     "metadata": {},
     "output_type": "execute_result"
    }
   ],
   "source": [
    "set([x['namCategory'] for x in data['response']['docs']])# for k in x.keys()]))"
   ]
  }
 ],
 "metadata": {
  "kernelspec": {
   "display_name": "Python 3",
   "language": "python",
   "name": "python3"
  }
 },
 "nbformat": 4,
 "nbformat_minor": 5
}
